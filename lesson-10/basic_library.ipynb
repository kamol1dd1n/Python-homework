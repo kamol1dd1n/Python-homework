{
 "cells": [
  {
   "cell_type": "code",
   "execution_count": null,
   "metadata": {},
   "outputs": [],
   "source": [
    "'''class Visitor:\n",
    "    def __init__(self, visitor_id, name):\n",
    "        self.visitor_id=visitor_id\n",
    "        self.name=name\n",
    "        self.borrowed_books=[]\n",
    "    def __str__(self):\n",
    "        return f\"visitor {self.name}'s id is: {self.visitor_id}\"\n",
    "    def borrow_book(self, book_name):\n",
    "        self.borrowed_books.append(book_name)\n",
    "    def display_borrowed_books(self):\n",
    "        print(f'visitor with id: {self.visitor_id}\\nname: {self.name}\\nborrowed following books:')\n",
    "        for i in self.borrowed_books:\n",
    "            print(i)'''"
   ]
  },
  {
   "cell_type": "code",
   "execution_count": null,
   "metadata": {},
   "outputs": [],
   "source": [
    "'''\n",
    "book1=Library(\"O'tkan kunlar\", \"Abdulla Qodiriy\")\n",
    "book2=Library(\"Mehrobdan Chayon\", \"Abdulla Qodiriy\")\n",
    "book3=Library(\"Ikki eshik orasi\", \"O'tkir Hoshimov\")\n",
    "book4=Library(\"Atomic Habits\", \"James Clear\")\n",
    "book5=Library(\"Преступление и наказание\", \"Фьодор Достоевски\")'''"
   ]
  },
  {
   "cell_type": "code",
   "execution_count": null,
   "metadata": {},
   "outputs": [],
   "source": [
    "#visitor1=Visitor(1,\"Kamoliddin\")"
   ]
  },
  {
   "cell_type": "code",
   "execution_count": null,
   "metadata": {},
   "outputs": [],
   "source": [
    "#visitor1.borrow_book(\"O'tkan kunlar\")"
   ]
  },
  {
   "cell_type": "code",
   "execution_count": null,
   "metadata": {},
   "outputs": [],
   "source": [
    "#visitor1.borrow_book(\"Mehrobdan Chayon\")"
   ]
  },
  {
   "cell_type": "code",
   "execution_count": null,
   "metadata": {},
   "outputs": [
    {
     "name": "stdout",
     "output_type": "stream",
     "text": [
      "visitor with id: 1\n",
      "name: Kamoliddin\n",
      "borrowed following books:\n",
      "O'tkan kunlar\n",
      "Mehrobdan Chayon\n"
     ]
    }
   ],
   "source": [
    "#visitor1.display_borrowed_books()"
   ]
  },
  {
   "cell_type": "code",
   "execution_count": null,
   "metadata": {},
   "outputs": [
    {
     "name": "stdout",
     "output_type": "stream",
     "text": [
      "visitor Kamoliddin's id is: 1\n"
     ]
    }
   ],
   "source": [
    "#print(visitor1)"
   ]
  },
  {
   "cell_type": "code",
   "execution_count": null,
   "metadata": {},
   "outputs": [],
   "source": [
    "'''class Books:\n",
    "    def __init__(self, book_name, author):\n",
    "        self.book_name=book_name\n",
    "        self.author=author\n",
    "    def __str__(self):\n",
    "        return f\"{self.book_name} was written by {self.author}\"'''"
   ]
  },
  {
   "cell_type": "code",
   "execution_count": null,
   "metadata": {},
   "outputs": [],
   "source": []
  },
  {
   "cell_type": "code",
   "execution_count": null,
   "metadata": {},
   "outputs": [],
   "source": [
    "'''class BookList:\n",
    "    def __init__(self):\n",
    "        self.books=[]\n",
    "\n",
    "    def borrow_book(self, name):\n",
    "        self.books.append(name)\n",
    "\n",
    "    def list_books(self):\n",
    "        print('List all books:')\n",
    "        for i in self.books:\n",
    "            print(i)\n",
    "\n",
    "    def search_book(self, name):\n",
    "        for book in self.books:\n",
    "            if book.name in name:\n",
    "                return book\n",
    "'''\n"
   ]
  },
  {
   "cell_type": "code",
   "execution_count": null,
   "metadata": {},
   "outputs": [],
   "source": [
    "#b1=BookList()"
   ]
  },
  {
   "cell_type": "code",
   "execution_count": null,
   "metadata": {},
   "outputs": [],
   "source": [
    "#b1.borrow_book(\"Mehrobdan Chayon\")"
   ]
  },
  {
   "cell_type": "code",
   "execution_count": null,
   "metadata": {},
   "outputs": [
    {
     "name": "stdout",
     "output_type": "stream",
     "text": [
      "List all books:\n",
      "Mehrobdan Chayon\n"
     ]
    }
   ],
   "source": [
    "#b1.list_books()"
   ]
  },
  {
   "cell_type": "code",
   "execution_count": null,
   "metadata": {},
   "outputs": [],
   "source": [
    "#visitor2=Visitor(2, \"Asliddin\")"
   ]
  },
  {
   "cell_type": "code",
   "execution_count": null,
   "metadata": {},
   "outputs": [],
   "source": [
    "#b1.borrow_book(\"Ikki eshik orasi\")"
   ]
  },
  {
   "cell_type": "code",
   "execution_count": null,
   "metadata": {},
   "outputs": [
    {
     "name": "stdout",
     "output_type": "stream",
     "text": [
      "List all books:\n",
      "Mehrobdan Chayon\n",
      "Ikki eshik orasi\n"
     ]
    }
   ],
   "source": [
    "#b1.list_books()"
   ]
  },
  {
   "cell_type": "code",
   "execution_count": null,
   "metadata": {},
   "outputs": [
    {
     "name": "stdout",
     "output_type": "stream",
     "text": [
      "\n",
      "Welcome to the Library Management System\n",
      "1. Borrow a Book\n",
      "2. Return a Book\n",
      "3. See All Books\n",
      "4. Register a New User\n",
      "5. Exit\n",
      "Goodbye!\n"
     ]
    }
   ],
   "source": [
    "class Visitor:\n",
    "    def __init__(self, visitor_id, name):\n",
    "        self.visitor_id = visitor_id\n",
    "        self.name = name\n",
    "        self.borrowed_books = []\n",
    "\n",
    "    def __str__(self):\n",
    "        return f\"Visitor {self.name}'s ID: {self.visitor_id}\"\n",
    "\n",
    "    def borrow_book(self, book_name):\n",
    "        self.borrowed_books.append(book_name)\n",
    "\n",
    "    def return_book(self, book_name):\n",
    "        if book_name in self.borrowed_books:\n",
    "            self.borrowed_books.remove(book_name)\n",
    "            print(f\"{self.name} returned '{book_name}' successfully\")\n",
    "        else:\n",
    "            print(\"You haven't borrowed this book.\")\n",
    "\n",
    "    def display_borrowed_books(self):\n",
    "        print(f\"Visitor ID: {self.visitor_id}, Name: {self.name}, Borrowed Books:\")\n",
    "        for book in self.borrowed_books:\n",
    "            print(f\"- {book}\")\n",
    "\n",
    "\n",
    "class Book:\n",
    "    def __init__(self, book_name, author):\n",
    "        self.book_name = book_name\n",
    "        self.author = author\n",
    "        self.available = True\n",
    "\n",
    "    def __str__(self):\n",
    "        return f\"{self.book_name} by {self.author} - {'Available' if self.available else 'Borrowed'}\"\n",
    "\n",
    "\n",
    "class Library:\n",
    "    def __init__(self):\n",
    "        self.books = []\n",
    "        self.visitors = {}\n",
    "\n",
    "    def add_book(self, book_name, author):\n",
    "        book = Book(book_name, author)\n",
    "        self.books.append(book)\n",
    "\n",
    "    def list_books(self):\n",
    "        print(\"List of Books:\")\n",
    "        for book in self.books:\n",
    "            print(book)\n",
    "\n",
    "    def search_book(self, name):\n",
    "        for book in self.books:\n",
    "            if book.book_name.lower() == name.lower():\n",
    "                return book\n",
    "        return None\n",
    "\n",
    "    def register_visitor(self, visitor_id, name):\n",
    "        if visitor_id in self.visitors:\n",
    "            print(\"Visitor ID already exists\")\n",
    "        else:\n",
    "            self.visitors[visitor_id] = Visitor(visitor_id, name)\n",
    "            print(f\"Visitor {name} registered successfully\")\n",
    "\n",
    "    def borrow_book(self, visitor_id, book_name):\n",
    "        if visitor_id not in self.visitors:\n",
    "            print(\"Visitor not registered\")\n",
    "            return\n",
    "        book = self.search_book(book_name)\n",
    "        if book and book.available:\n",
    "            book.available = False\n",
    "            self.visitors[visitor_id].borrow_book(book_name)\n",
    "            print(f\"{self.visitors[visitor_id].name} borrowed '{book_name}' successfully\")\n",
    "        else:\n",
    "            print(\"Book is not available\")\n",
    "\n",
    "    def return_book(self, visitor_id, book_name):\n",
    "        if visitor_id not in self.visitors:\n",
    "            print(\"Visitor not registered\")\n",
    "            return\n",
    "        visitor = self.visitors[visitor_id]\n",
    "        book = self.search_book(book_name)\n",
    "        if book and not book.available:\n",
    "            book.available = True\n",
    "            visitor.return_book(book_name)\n",
    "        else:\n",
    "            print(\"This book was not borrowed or does not exist\")\n",
    "\n",
    "from IPython.display import clear_output    \n",
    "import time\n",
    "def print_menu():\n",
    "    print(\"\\nWelcome to the Library Management System\")\n",
    "    print(\"1. Borrow a Book\")\n",
    "    print(\"2. Return a Book\")\n",
    "    print(\"3. See All Books\")\n",
    "    print(\"4. Register a New User\")\n",
    "    print(\"5. Exit\")\n",
    "\n",
    "\n",
    "library = Library()\n",
    "library.add_book(\"Khamsa\", \"Alisher Navoiy\")\n",
    "library.add_book(\"Tib Qonunlari\", \"Abu Ali ibn Sino\")\n",
    "library.add_book(\"Mehrobdan Chayon\", \"Abdulla Qodiriy\")\n",
    "library.add_book(\"Otamdan qolgan dalalar\", \"Tog'ay Murod\")\n",
    "library.add_book(\"Приступление и Наказание\", \"Фьодор Достоевский\")\n",
    "library.add_book(\"Yulduzli Tunlar\", \"Pirimqul Qodirov\")\n",
    "library.add_book(\"Invisible Man\", \"Ralph Ellison\")\n",
    "library.add_book(\"Catch-22\", \"Joseph Heller\")\n",
    "library.add_book(\"Анна Каренина\", \"Лев Толстой\")\n",
    "library.add_book(\"Beloved\", \"Toni Morrison\")\n",
    "library.add_book(\"O'tkan Kunlar\", \"Abdulla Qodiriy\")\n",
    "library.add_book(\"Dunyoning Ishlari\", \"O'tkir Hoshimov\")\n",
    "\n",
    "\n",
    "def main():\n",
    "    while True:\n",
    "        clear_output(wait=True)\n",
    "        print_menu()\n",
    "        choice = input(\"Enter your choice (1-5): \")\n",
    "\n",
    "        if choice == \"1\":\n",
    "            visitor_id = input(\"Enter your visitor ID: \")\n",
    "            book_name = input(\"Enter the book you want to borrow: \")\n",
    "            library.borrow_book(visitor_id, book_name)\n",
    "        elif choice == \"2\":\n",
    "            visitor_id = input(\"Enter your visitor ID: \")\n",
    "            book_name = input(\"Enter the book you want to return: \")\n",
    "            library.return_book(visitor_id, book_name)\n",
    "        elif choice == \"3\":\n",
    "            library.list_books()\n",
    "        elif choice == \"4\":\n",
    "            visitor_id = input(\"Enter a new visitor ID: \")\n",
    "            name = input(\"Enter visitor name: \")\n",
    "            library.register_visitor(visitor_id, name)\n",
    "        elif choice == \"5\":\n",
    "            print(\"Goodbye!\")\n",
    "            break\n",
    "        else:\n",
    "            print(\"Invalid choice. Please enter a number between 1 and 5\")\n",
    "        \n",
    "        time.sleep(5)\n",
    "\n",
    "\n",
    "main()\n"
   ]
  }
 ],
 "metadata": {
  "kernelspec": {
   "display_name": "Python 3",
   "language": "python",
   "name": "python3"
  },
  "language_info": {
   "codemirror_mode": {
    "name": "ipython",
    "version": 3
   },
   "file_extension": ".py",
   "mimetype": "text/x-python",
   "name": "python",
   "nbconvert_exporter": "python",
   "pygments_lexer": "ipython3",
   "version": "3.13.2"
  }
 },
 "nbformat": 4,
 "nbformat_minor": 2
}
