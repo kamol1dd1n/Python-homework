{
 "cells": [
  {
   "cell_type": "markdown",
   "metadata": {},
   "source": [
    "Homework:\n",
    "\n",
    "1.\n",
    "def is_leap(year):\n",
    "    \"\"\"\n",
    "    Determines whether a given year is a leap year.\n",
    "\n",
    "    A year is a leap year if:\n",
    "    - It is divisible by 4, and\n",
    "    - It is NOT divisible by 100, unless it is also divisible by 400.\n",
    "\n",
    "    Parameters:\n",
    "    year (int): The year to be checked.\n",
    "\n",
    "    Returns:\n",
    "    bool: True if the year is a leap year, False otherwise.\n",
    "    \"\"\"\n",
    "    if not isinstance(year, int):\n",
    "        raise ValueError(\"Year must be an integer.\")\n",
    "    \n",
    "    return (year % 4 == 0 and year % 100 != 0) or (year % 400 == 0)\n",
    "\n",
    "\n",
    "\n",
    "## 2. Conditional Statements Exercise\n",
    "\n",
    "Given an integer, `n`, perform the following conditional actions:\n",
    "\n",
    "- If `n` is **odd**, print `Weird`\n",
    "- If `n` is **even** and in the inclusive range of **2 to 5**, print `Not Weird`\n",
    "- If `n` is **even** and in the inclusive range of **6 to 20**, print `Weird`\n",
    "- If `n` is **even** and **greater than 20**, print `Not Weird`\n",
    "\n",
    "## Input Format\n",
    "A single line containing a positive integer, `n`.\n",
    "\n",
    "## Constraints\n",
    "- `1 <= n <= 100`\n",
    "\n",
    "## Output Format\n",
    "Print `Weird` if the number is weird. Otherwise, print `Not Weird`.\n",
    "\n",
    "## Sample Input 0\n",
    "```\n",
    "3\n",
    "```\n",
    "\n",
    "## Sample Output 0\n",
    "```\n",
    "Weird\n",
    "```\n",
    "\n",
    "\n",
    "3. Given two integer numbers a and b. Find even numbers between this numbers. a and b are inclusive. Don't use loop. \n",
    "\n",
    "Give two solutions.\n",
    "\n",
    "Solution 1 with if-else statement.\n",
    "\n",
    "Solution 2 without if-else statement."
   ]
  },
  {
   "cell_type": "code",
   "execution_count": 14,
   "metadata": {},
   "outputs": [
    {
     "name": "stdout",
     "output_type": "stream",
     "text": [
      "not leap year\n"
     ]
    }
   ],
   "source": [
    "#checking for leap year\n",
    "year=int(input('enter year u want to check: '))\n",
    "if (year%4==0 and year%100!=0) or year%400==0:\n",
    "    print('leap year')\n",
    "else:\n",
    "    print('not leap year')"
   ]
  },
  {
   "cell_type": "code",
   "execution_count": null,
   "metadata": {},
   "outputs": [
    {
     "name": "stdout",
     "output_type": "stream",
     "text": [
      "not weird\n"
     ]
    }
   ],
   "source": [
    "#2\n",
    "n=int(input())\n",
    "if n%2!=0:\n",
    "    print('weird')\n",
    "elif n%2==0 and 2<=n<=5:\n",
    "    print('not weird')\n",
    "elif n%2==0 and 6<=n<=20:\n",
    "    print('weird')\n",
    "elif n%2==0 and n>=20:\n",
    "    print('not weird')"
   ]
  },
  {
   "cell_type": "code",
   "execution_count": 23,
   "metadata": {},
   "outputs": [
    {
     "name": "stdout",
     "output_type": "stream",
     "text": [
      "6\n",
      "8\n",
      "10\n"
     ]
    }
   ],
   "source": [
    "#3\n",
    "a=int(input())\n",
    "b=int(input())\n",
    "for i in range(a,b+1):\n",
    "    if i%2==0:\n",
    "        print(i)\n",
    "    else:\n",
    "        continue"
   ]
  },
  {
   "cell_type": "code",
   "execution_count": null,
   "metadata": {},
   "outputs": [
    {
     "name": "stdout",
     "output_type": "stream",
     "text": [
      "6\n",
      "8\n"
     ]
    }
   ],
   "source": [
    "a=int(input())\n",
    "b=int(input())\n",
    "if a%2==0:\n",
    "    a=a\n",
    "else:\n",
    "    a=a+1\n",
    "if b%2==0:\n",
    "    b=b\n",
    "else:\n",
    "    b=b-1\n",
    "   \n"
   ]
  },
  {
   "cell_type": "code",
   "execution_count": null,
   "metadata": {},
   "outputs": [
    {
     "name": "stdout",
     "output_type": "stream",
     "text": [
      "6 8 10 12 14 16 18 20 22 24 26 28 30 32 34 36 38 40 42 44 46 48 50 52 54 56 58 60 62 64 66 68 70 72 74 76 78 80 82 84 86 88 90 92 94 96 98 100\n"
     ]
    }
   ],
   "source": [
    "a=int(input())\n",
    "b=int(input())\n",
    "if a % 2 != 0:\n",
    "    a =a+1\n",
    "if b % 2 != 0:\n",
    "    b =b-1  \n",
    "if a <= b:\n",
    "    print(*range(a, b + 1, 2))\n",
    "else:\n",
    "    print(\"No even numbers in the range\")\n"
   ]
  },
  {
   "cell_type": "code",
   "execution_count": 39,
   "metadata": {},
   "outputs": [
    {
     "name": "stdout",
     "output_type": "stream",
     "text": [
      "6 8\n"
     ]
    }
   ],
   "source": [
    "a=int(input())\n",
    "b=int(input())\n",
    "print(*range(a+(a%2), b+1, 2))"
   ]
  },
  {
   "cell_type": "code",
   "execution_count": null,
   "metadata": {},
   "outputs": [],
   "source": []
  }
 ],
 "metadata": {
  "kernelspec": {
   "display_name": "Python 3",
   "language": "python",
   "name": "python3"
  },
  "language_info": {
   "codemirror_mode": {
    "name": "ipython",
    "version": 3
   },
   "file_extension": ".py",
   "mimetype": "text/x-python",
   "name": "python",
   "nbconvert_exporter": "python",
   "pygments_lexer": "ipython3",
   "version": "3.13.2"
  }
 },
 "nbformat": 4,
 "nbformat_minor": 2
}
