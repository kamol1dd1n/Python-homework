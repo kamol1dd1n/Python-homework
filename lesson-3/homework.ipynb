{
 "cells": [
  {
   "cell_type": "markdown",
   "metadata": {},
   "source": [
    "1. Create and Access List Elements\n",
    "Create a list containing five different fruits and print the third fruit.\n",
    "\n",
    "2. Concatenate Two Lists\n",
    "Create two lists of numbers and concatenate them into a single list.\n",
    "\n",
    "3. Extract Elements from a List\n",
    "Given a list of numbers, extract the first, middle, and last elements and store them in a new list.\n",
    "\n",
    "4. Convert List to Tuple\n",
    "Create a list of your five favorite movies and convert it into a tuple.\n",
    "\n",
    "5. Check Element in a List\n",
    "Given a list of cities, check if \"Paris\" is in the list and print the result.\n",
    "\n",
    "6. Duplicate a List Without Using Loops\n",
    "Create a list of numbers and duplicate it without using loops.\n",
    "\n",
    "7. Swap First and Last Elements of a List\n",
    "Given a list of numbers, swap the first and last elements.\n",
    "\n",
    "8. Slice a Tuple\n",
    "Create a tuple of numbers from 1 to 10 and print a slice from index 3 to 7.\n",
    "\n",
    "9. Count Occurrences in a List\n",
    "Create a list of colors and count how many times \"blue\" appears in the list.\n",
    "\n",
    "10. Find the Index of an Element in a Tuple\n",
    "Given a tuple of animals, find the index of \"lion\".\n",
    "\n",
    "11. Merge Two Tuples\n",
    "Create two tuples of numbers and merge them into a single tuple.\n",
    "\n",
    "12. Find the Length of a List and Tuple\n",
    "Given a list and a tuple, find and print their lengths.\n",
    "\n",
    "13. Convert Tuple to List\n",
    "Create a tuple of five numbers and convert it into a list.\n",
    "\n",
    "14. Find Maximum and Minimum in a Tuple\n",
    "Given a tuple of numbers, find and print the maximum and minimum values.\n",
    "\n",
    "15. Reverse a Tuple\n",
    "Create a tuple of words and print it in reverse order"
   ]
  },
  {
   "cell_type": "code",
   "execution_count": null,
   "metadata": {},
   "outputs": [
    {
     "name": "stdout",
     "output_type": "stream",
     "text": [
      "third fruit is: pear\n"
     ]
    }
   ],
   "source": [
    "#1\n",
    "fruits=['apple', 'banana', 'pear', 'grapes', 'peach']\n",
    "print(f'third fruit is: {fruits[2]}')"
   ]
  },
  {
   "cell_type": "code",
   "execution_count": null,
   "metadata": {},
   "outputs": [
    {
     "name": "stdout",
     "output_type": "stream",
     "text": [
      "concatinated list: [1, 3, 5, 7, 9, 2, 4, 6, 8, 9]\n"
     ]
    }
   ],
   "source": [
    "#2\n",
    "numbers1=[1,3,5,7,9]\n",
    "numbers2=[2,4,6,8,9]\n",
    "numbers1.extend(numbers2)\n",
    "print(f'concatinated list: {numbers1}')"
   ]
  },
  {
   "cell_type": "code",
   "execution_count": 67,
   "metadata": {},
   "outputs": [
    {
     "data": {
      "text/plain": [
       "['one', 5, 9]"
      ]
     },
     "execution_count": 67,
     "metadata": {},
     "output_type": "execute_result"
    }
   ],
   "source": [
    "#3\n",
    "mylist=['one','two', 3, 'four', 5, 6, 'seven', 'eight', 9]\n",
    "a=len(mylist)\n",
    "newlist=[mylist[0], mylist[a//2] , mylist[-1]]\n",
    "newlist"
   ]
  },
  {
   "cell_type": "code",
   "execution_count": null,
   "metadata": {},
   "outputs": [
    {
     "name": "stdout",
     "output_type": "stream",
     "text": [
      "converted to tuple: ('avatar', 'thor', 'death note', 'your name')\n"
     ]
    },
    {
     "data": {
      "text/plain": [
       "tuple"
      ]
     },
     "execution_count": 33,
     "metadata": {},
     "output_type": "execute_result"
    }
   ],
   "source": [
    "#4\n",
    "list=['avatar','thor', 'death note', 'your name']\n",
    "#list=tuple(list)\n",
    "print(f'converted to tuple: {tuple(list)}')"
   ]
  },
  {
   "cell_type": "code",
   "execution_count": 39,
   "metadata": {},
   "outputs": [
    {
     "name": "stdout",
     "output_type": "stream",
     "text": [
      "theres paris\n"
     ]
    }
   ],
   "source": [
    "#5\n",
    "list=['tashkent', 'bekobod', 'olmaliq', 'moscow', 'istanbul', 'paris']\n",
    "if 'paris' in list:\n",
    "    print('theres paris')\n",
    "else:\n",
    "    print('no paris')"
   ]
  },
  {
   "cell_type": "code",
   "execution_count": null,
   "metadata": {},
   "outputs": [
    {
     "data": {
      "text/plain": [
       "['one', 'two', 3, 'four', 5, 6, 'seven', 'eight', 9]"
      ]
     },
     "execution_count": 40,
     "metadata": {},
     "output_type": "execute_result"
    }
   ],
   "source": [
    "#6 \n",
    "list=['one','two', 3, 'four', 5, 6, 'seven', 'eight', 9]\n",
    "copiedlist=list.copy()\n",
    "copiedlist"
   ]
  },
  {
   "cell_type": "code",
   "execution_count": null,
   "metadata": {},
   "outputs": [
    {
     "name": "stdout",
     "output_type": "stream",
     "text": [
      "[9, 'two', 3, 'four', 5, 6, 'seven', 'eight', 'one']\n"
     ]
    }
   ],
   "source": [
    "#7\n",
    "list=['one','two', 3, 'four', 5, 6, 'seven', 'eight', 9]\n",
    "list[0],list[-1] =list[-1], list[0]\n",
    "print(list)\n"
   ]
  },
  {
   "cell_type": "code",
   "execution_count": 72,
   "metadata": {},
   "outputs": [
    {
     "data": {
      "text/plain": [
       "(3, 4, 5, 6)"
      ]
     },
     "execution_count": 72,
     "metadata": {},
     "output_type": "execute_result"
    }
   ],
   "source": [
    "#8\n",
    "tuple=0,1,2,3,4,5,6,7,8,9\n",
    "tuple[3:7]"
   ]
  },
  {
   "cell_type": "code",
   "execution_count": 74,
   "metadata": {},
   "outputs": [
    {
     "data": {
      "text/plain": [
       "4"
      ]
     },
     "execution_count": 74,
     "metadata": {},
     "output_type": "execute_result"
    }
   ],
   "source": [
    "#9\n",
    "list=['white', 'blue', 'orange', 'blue', 'blue', 'blue', 'red', 'red'].count('blue')\n",
    "list"
   ]
  },
  {
   "cell_type": "code",
   "execution_count": 76,
   "metadata": {},
   "outputs": [
    {
     "data": {
      "text/plain": [
       "2"
      ]
     },
     "execution_count": 76,
     "metadata": {},
     "output_type": "execute_result"
    }
   ],
   "source": [
    "#10\n",
    "tuple='monkey','snake', 'lion', 'wolf', 'bear', 'eagle', 'owl'\n",
    "tuple.index('lion')"
   ]
  },
  {
   "cell_type": "code",
   "execution_count": 79,
   "metadata": {},
   "outputs": [
    {
     "data": {
      "text/plain": [
       "(1, 3, 5, 7, 9, 2, 4, 6, 8, 9)"
      ]
     },
     "execution_count": 79,
     "metadata": {},
     "output_type": "execute_result"
    }
   ],
   "source": [
    "#11\n",
    "tuple1=1,3,5,7,9\n",
    "tuple2=2,4,6,8,9\n",
    "#tuple1.__add__(tuple2)\n",
    "tuple3=tuple1+tuple2\n",
    "tuple3"
   ]
  },
  {
   "cell_type": "code",
   "execution_count": 82,
   "metadata": {},
   "outputs": [
    {
     "name": "stdout",
     "output_type": "stream",
     "text": [
      "list length: 8, tuple length: 7\n"
     ]
    }
   ],
   "source": [
    "#12\n",
    "list=['white', 'blue', 'orange', 'blue', 'blue', 'blue', 'red', 'red']\n",
    "a=len(list)\n",
    "tuple='monkey','snake', 'lion', 'wolf', 'bear', 'eagle', 'owl'\n",
    "b=len(tuple)\n",
    "print(f'list length: {a}, tuple length: {b}')\n"
   ]
  },
  {
   "cell_type": "code",
   "execution_count": 85,
   "metadata": {},
   "outputs": [
    {
     "ename": "TypeError",
     "evalue": "'list' object is not callable",
     "output_type": "error",
     "traceback": [
      "\u001b[31m---------------------------------------------------------------------------\u001b[39m",
      "\u001b[31mTypeError\u001b[39m                                 Traceback (most recent call last)",
      "\u001b[36mCell\u001b[39m\u001b[36m \u001b[39m\u001b[32mIn[85]\u001b[39m\u001b[32m, line 3\u001b[39m\n\u001b[32m      1\u001b[39m \u001b[38;5;66;03m#13\u001b[39;00m\n\u001b[32m      2\u001b[39m \u001b[38;5;28mtuple\u001b[39m=\u001b[32m1\u001b[39m,\u001b[32m2\u001b[39m,\u001b[32m3\u001b[39m,\u001b[32m4\u001b[39m,\u001b[32m5\u001b[39m\n\u001b[32m----> \u001b[39m\u001b[32m3\u001b[39m a=\u001b[38;5;28;43mlist\u001b[39;49m\u001b[43m(\u001b[49m\u001b[38;5;28;43mtuple\u001b[39;49m\u001b[43m)\u001b[49m\n\u001b[32m      4\u001b[39m a\n",
      "\u001b[31mTypeError\u001b[39m: 'list' object is not callable"
     ]
    }
   ],
   "source": [
    "#13\n",
    "tuple=1,2,3,4,5\n",
    "a=list(tuple)\n",
    "a"
   ]
  },
  {
   "cell_type": "code",
   "execution_count": 2,
   "metadata": {},
   "outputs": [
    {
     "name": "stdout",
     "output_type": "stream",
     "text": [
      "maximum is: 78 \n",
      "minimum is: 3\n"
     ]
    }
   ],
   "source": [
    "#14\n",
    "tuple=4,3,78,9\n",
    "print(f'maximum is: {max(tuple)} \\nminimum is: {min(tuple)}')"
   ]
  },
  {
   "cell_type": "code",
   "execution_count": 3,
   "metadata": {},
   "outputs": [
    {
     "name": "stdout",
     "output_type": "stream",
     "text": [
      "('seven', 6, 5, 4, 'three', 'two', 1)\n"
     ]
    }
   ],
   "source": [
    "#15\n",
    "tuple=1,'two', 'three', 4, 5, 6, 'seven'\n",
    "print(tuple[::-1])"
   ]
  }
 ],
 "metadata": {
  "kernelspec": {
   "display_name": "Python 3",
   "language": "python",
   "name": "python3"
  },
  "language_info": {
   "codemirror_mode": {
    "name": "ipython",
    "version": 3
   },
   "file_extension": ".py",
   "mimetype": "text/x-python",
   "name": "python",
   "nbconvert_exporter": "python",
   "pygments_lexer": "ipython3",
   "version": "3.13.2"
  }
 },
 "nbformat": 4,
 "nbformat_minor": 2
}
