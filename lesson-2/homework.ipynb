{
 "cells": [
  {
   "cell_type": "markdown",
   "metadata": {},
   "source": [
    "1. Age Calculator\n",
    "Write a Python program to ask for a user's name and year of birth, then calculate and display their age.\n",
    "\n",
    "2. Extract Car Names\n",
    "Extract car names from the following text:\n",
    "txt = 'LMaasleitbtui'\n",
    "\n",
    "3. Extract Car Names\n",
    "Extract car names from the following text:\n",
    "txt = 'MsaatmiazD'\n",
    "\n",
    "4. Extract Residence Area\n",
    "Extract the residence area from the following text:\n",
    "txt = \"I'am John. I am from London\"\n",
    "\n",
    "5. Reverse String\n",
    "Write a Python program that takes a user input string and prints it in reverse order.\n",
    "\n",
    "6. Count Vowels\n",
    "Write a Python program that counts the number of vowels in a given string.\n",
    "\n",
    "7. Find Maximum Value\n",
    "Write a Python program that takes a list of numbers as input and prints the maximum value.\n",
    "\n",
    "8. Check Palindrome\n",
    "Write a Python program that checks if a given word is a palindrome (reads the same forward and backward).\n",
    "\n",
    "9. Extract Email Domain\n",
    "Write a Python program that extracts and prints the domain from an email address provided by the user.\n",
    "\n",
    "10. Generate Random Password\n",
    "Write a Python program to generate a random password containing letters, digits, and special characters."
   ]
  },
  {
   "cell_type": "code",
   "execution_count": null,
   "metadata": {},
   "outputs": [
    {
     "name": "stdout",
     "output_type": "stream",
     "text": [
      "ur age: 21\n"
     ]
    }
   ],
   "source": [
    "#1\n",
    "a=str(input('enter ur name'))\n",
    "b=int(input('ur year of birth'))\n",
    "c=2025-b\n",
    "print(f'ur age is: {c}')"
   ]
  },
  {
   "cell_type": "code",
   "execution_count": 6,
   "metadata": {},
   "outputs": [
    {
     "name": "stdout",
     "output_type": "stream",
     "text": [
      "Malibu\n",
      "Lasetti\n"
     ]
    }
   ],
   "source": [
    "#2\n",
    "a='LMaasleitbtui'\n",
    "print(a[1::2])\n",
    "print(a[0::2])"
   ]
  },
  {
   "cell_type": "code",
   "execution_count": 8,
   "metadata": {},
   "outputs": [
    {
     "name": "stdout",
     "output_type": "stream",
     "text": [
      "Matiz\n",
      "Damas\n"
     ]
    }
   ],
   "source": [
    "#3\n",
    "a='MsaatmiazD'\n",
    "print(a[::2])\n",
    "print(a[::-2])"
   ]
  },
  {
   "cell_type": "code",
   "execution_count": null,
   "metadata": {},
   "outputs": [
    {
     "data": {
      "text/plain": [
       "'London'"
      ]
     },
     "execution_count": 13,
     "metadata": {},
     "output_type": "execute_result"
    }
   ],
   "source": [
    "#4\n",
    "a=\"I'am John. I am from London\"\n",
    "a[a.index('from')+len('from')+1:]"
   ]
  },
  {
   "cell_type": "code",
   "execution_count": 5,
   "metadata": {},
   "outputs": [
    {
     "data": {
      "text/plain": [
       "'cndjncdjcn'"
      ]
     },
     "execution_count": 5,
     "metadata": {},
     "output_type": "execute_result"
    }
   ],
   "source": [
    "#5\n",
    "a=str(input('type anything:'))\n",
    "a[::-1]"
   ]
  },
  {
   "cell_type": "code",
   "execution_count": null,
   "metadata": {},
   "outputs": [
    {
     "name": "stdout",
     "output_type": "stream",
     "text": [
      "number of vowels in ur string is: 4\n"
     ]
    }
   ],
   "source": [
    "#6\n",
    "a=str(input('write anything:'))\n",
    "print(f'no of vowels in ur string is: {a.count('a')+a.count('o')+a.count('e')+a.count('i')+a.count('u')}')"
   ]
  },
  {
   "cell_type": "code",
   "execution_count": null,
   "metadata": {},
   "outputs": [
    {
     "name": "stdout",
     "output_type": "stream",
     "text": [
      "biggest number: 45\n"
     ]
    }
   ],
   "source": [
    "#7\n",
    "a=map(int, str(input('type numbers:')).split())\n",
    "print(f'biggest number is: {max(a)}')\n",
    "\n",
    "\n",
    "#a=str(input('type numbers:')).split()\n",
    "#a=[int(x) for x in a] \n",
    "#print(f'biggest number: {max(a)}')\n",
    "\n"
   ]
  },
  {
   "cell_type": "code",
   "execution_count": 35,
   "metadata": {},
   "outputs": [
    {
     "name": "stdout",
     "output_type": "stream",
     "text": [
      "Non-polindrome\n"
     ]
    }
   ],
   "source": [
    "#8\n",
    "word=str(input('type any word:'))\n",
    "backwards=word[::-1]\n",
    "if word==backwards:\n",
    "    print('Polindrome')\n",
    "else:\n",
    "    print('Non-polindrome')\n"
   ]
  },
  {
   "cell_type": "code",
   "execution_count": 36,
   "metadata": {},
   "outputs": [
    {
     "data": {
      "text/plain": [
       "'mail.ru'"
      ]
     },
     "execution_count": 36,
     "metadata": {},
     "output_type": "execute_result"
    }
   ],
   "source": [
    "#9\n",
    "a=str(input('enter ur email'))\n",
    "a[a.index('@')+1:]"
   ]
  },
  {
   "cell_type": "code",
   "execution_count": null,
   "metadata": {},
   "outputs": [
    {
     "name": "stdout",
     "output_type": "stream",
     "text": [
      "183ahtw%\n"
     ]
    }
   ],
   "source": [
    "#10\n",
    "import random\n",
    "a=str(random.randint(0, 500))\n",
    "b='a,b,c,d,e,f,g'.split(',')\n",
    "c='h,i,j,k,l,m,n'.split(',')\n",
    "d='o,p,q,r,s,t,u'.split(',')\n",
    "e='v,w,x,y,z'.split(',')\n",
    "f='@,$,%,&,~,!'.split(',')\n",
    "print(a+b[random.randint(0,6)]+c[random.randint(0,6)]+d[random.randint(0,6)]+e[random.randint(0,4)]+f[random.randint(0,4)])"
   ]
  }
 ],
 "metadata": {
  "kernelspec": {
   "display_name": "Python 3",
   "language": "python",
   "name": "python3"
  },
  "language_info": {
   "codemirror_mode": {
    "name": "ipython",
    "version": 3
   },
   "file_extension": ".py",
   "mimetype": "text/x-python",
   "name": "python",
   "nbconvert_exporter": "python",
   "pygments_lexer": "ipython3",
   "version": "3.13.2"
  }
 },
 "nbformat": 4,
 "nbformat_minor": 2
}
