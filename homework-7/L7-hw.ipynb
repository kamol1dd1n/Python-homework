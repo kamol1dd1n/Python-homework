{
 "cells": [
  {
   "cell_type": "markdown",
   "metadata": {},
   "source": [
    "# Homework\n",
    "\n",
    "## Task\n",
    "Learn about `map` and `filter` functions, and be prepared to explain them in class. Provide examples using these functions with `lambda` expressions.\n",
    "\n",
    "---\n",
    "\n",
    "# Problems\n",
    "\n",
    "## 1. is_prime(n) funksiyasi\n",
    "`is_prime(n)` funksiyasini hosil qiling (`n > 0`). Agar `n` soni tub bo'lsa `True`, aks holda `False` qiymat qaytarsin.\n",
    "\n",
    "### Misollar:\n",
    "- **Kiritish:**  \n",
    "  4  \n",
    "  **Natija:**  \n",
    "  False  \n",
    "  _(Izoh: 4 soni tub emas, chunki u 2 ga bo'linadi.)_\n",
    "\n",
    "- **Kiritish:**  \n",
    "  7  \n",
    "  **Natija:**  \n",
    "  True  \n",
    "  _(Izoh: 7 soni faqat 1 va o'ziga bo'linadi, ya'ni tub son.)_\n",
    "\n",
    "---\n",
    "\n",
    "## 2. digit_sum(k) funksiyasi\n",
    "`digit_sum(k)` funksiyasini yozing, u `k` sonining raqamlari yig'indisini hisoblaydi.\n",
    "\n",
    "### Misollar:\n",
    "- **Kiritish:**  \n",
    "  24  \n",
    "  **Natija:**  \n",
    "  6  \n",
    "  _(Izoh: 24 sonining raqamlari yig'indisi: 2 + 4 = 6.)_\n",
    "\n",
    "- **Kiritish:**  \n",
    "  502  \n",
    "  **Natija:**  \n",
    "  7  \n",
    "  _(Izoh: 502 sonining raqamlari yig'indisi: 5 + 0 + 2 = 7.)_\n",
    "\n",
    "---\n",
    "\n",
    "## 3. Ikki sonning darajalari\n",
    "Berilgan `N` sonidan oshmaydigan barcha 2 ning darajalarini (ya'ni, `2**k` shaklidagi sonlarni) chop etuvchi funksiyani yozing.\n",
    "\n",
    "### Misol:\n",
    "- **Kiritish:**  \n",
    "  10  \n",
    "  **Natija:**  \n",
    "  2 4 8  \n",
    "  _(Izoh: 10 dan kichik yoki teng bo'lgan 2 ning darajalari: 2, 4, 8.)_"
   ]
  },
  {
   "cell_type": "code",
   "execution_count": null,
   "metadata": {},
   "outputs": [
    {
     "data": {
      "text/plain": [
       "False"
      ]
     },
     "execution_count": 19,
     "metadata": {},
     "output_type": "execute_result"
    }
   ],
   "source": [
    "#1 is_prime(n) funksiyasi\n",
    "def is_prime(n):\n",
    "    if n<=1:\n",
    "        return False\n",
    "    elif n==2:\n",
    "        return True\n",
    "    elif n%2==0:\n",
    "        return False\n",
    "    for i in range(3,int(n**0.5)+1,2):\n",
    "        if n%i==0:\n",
    "            return False\n",
    "        else:\n",
    "            return True\n",
    "is_prime(1)"
   ]
  },
  {
   "cell_type": "code",
   "execution_count": null,
   "metadata": {},
   "outputs": [
    {
     "name": "stdout",
     "output_type": "stream",
     "text": [
      "9\n"
     ]
    }
   ],
   "source": [
    "#2 digit_sum(k) funksiyasi\n",
    "def digit_sum(k):\n",
    "    k=str(k)\n",
    "    list=[]\n",
    "    for i in k:\n",
    "        list.append(i)\n",
    "    a=0\n",
    "    for i in list:\n",
    "        i=int(i)\n",
    "        a=a+i \n",
    "    print(a)\n",
    "digit_sum(261)"
   ]
  },
  {
   "cell_type": "code",
   "execution_count": 64,
   "metadata": {},
   "outputs": [
    {
     "name": "stdout",
     "output_type": "stream",
     "text": [
      "2\n",
      "4\n",
      "8\n",
      "16\n",
      "32\n",
      "64\n",
      "128\n",
      "256\n",
      "512\n",
      "1024\n",
      "2048\n",
      "4096\n",
      "8192\n"
     ]
    }
   ],
   "source": [
    "#3 Berilgan `N` sonidan oshmaydigan barcha 2 ning darajalarini (ya'ni, `2**k` shaklidagi sonlarni) chop etuvchi funksiyani yozing\n",
    "def power(n):\n",
    "    for i in range(1,int(n**0.5)+1):\n",
    "        if (2**i)>n:\n",
    "            break \n",
    "        print(2**i)\n",
    "power(10000)"
   ]
  }
 ],
 "metadata": {
  "kernelspec": {
   "display_name": "Python 3",
   "language": "python",
   "name": "python3"
  },
  "language_info": {
   "codemirror_mode": {
    "name": "ipython",
    "version": 3
   },
   "file_extension": ".py",
   "mimetype": "text/x-python",
   "name": "python",
   "nbconvert_exporter": "python",
   "pygments_lexer": "ipython3",
   "version": "3.13.2"
  }
 },
 "nbformat": 4,
 "nbformat_minor": 2
}
