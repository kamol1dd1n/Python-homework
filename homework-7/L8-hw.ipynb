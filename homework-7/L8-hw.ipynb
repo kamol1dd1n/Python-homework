{
 "cells": [
  {
   "cell_type": "markdown",
   "metadata": {},
   "source": [
    "# Homework:\n",
    "\n",
    "# Python Exception Handling: Exercises, Solutions, and Practice\n",
    "\n",
    "## Exception Handling Exercises\n",
    "\n",
    "1. Write a Python program to handle a `ZeroDivisionError` exception when dividing a number by zero.\n",
    "\n",
    "2. Write a Python program that prompts the user to input an integer and raises a `ValueError` exception if the input is not a valid integer.\n",
    "\n",
    "3. Write a Python program that opens a file and handles a `FileNotFoundError` exception if the file does not exist.\n",
    "\n",
    "4. Write a Python program that prompts the user to input two numbers and raises a `TypeError` exception if the inputs are not numerical.\n",
    "\n",
    "5. Write a Python program that opens a file and handles a `PermissionError` exception if there is a permission issue.\n",
    "\n",
    "6. Write a Python program that executes an operation on a list and handles an `IndexError` exception if the index is out of range.\n",
    "\n",
    "7. Write a Python program that prompts the user to input a number and handles a `KeyboardInterrupt` exception if the user cancels the input.\n",
    "\n",
    "8. Write a Python program that executes division and handles an `ArithmeticError` exception if there is an arithmetic error.\n",
    "\n",
    "9. Write a Python program that opens a file and handles a `UnicodeDecodeError` exception if there is an encoding issue.\n",
    "\n",
    "10. Write a Python program that executes a list operation and handles an `AttributeError` exception if the attribute does not exist.\n",
    "\n",
    "---\n",
    "\n",
    "# Python File Input Output: Exercises, Practice, Solution\n",
    "\n",
    "## File Input/Output Exercises\n",
    "\n",
    "1. Write a Python program to read an entire text file.\n",
    "\n",
    "2. Write a Python program to read first `n` lines of a file.\n",
    "\n",
    "3. Write a Python program to append text to a file and display the text.\n",
    "\n",
    "4. Write a Python program to read last `n` lines of a file.\n",
    "\n",
    "5. Write a Python program to read a file line by line and store it into a list.\n",
    "\n",
    "6. Write a Python program to read a file line by line and store it into a variable.\n",
    "\n",
    "7. Write a Python program to read a file line by line and store it into an array.\n",
    "\n",
    "8. Write a Python program to find the longest words.\n",
    "\n",
    "9. Write a Python program to count the number of lines in a text file.\n",
    "\n",
    "10. Write a Python program to count the frequency of words in a file.\n",
    "\n",
    "11. Write a Python program to get the file size of a plain file.\n",
    "\n",
    "12. Write a Python program to write a list to a file.\n",
    "\n",
    "13. Write a Python program to copy the contents of a file to another file.\n",
    "\n",
    "14. Write a Python program to combine each line from the first file with the corresponding line in the second file.\n",
    "\n",
    "15. Write a Python program to read a random line from a file.\n",
    "\n",
    "16. Write a Python program to assess if a file is closed or not.\n",
    "\n",
    "17. Write a Python program to remove newline characters from a file.\n",
    "\n",
    "18. Write a Python program that takes a text file as input and returns the number of words in a given text file.\n",
    "   - **Note:** Some words can be separated by a comma with no space.\n",
    "\n",
    "19. Write a Python program to extract characters from various text files and put them into a list.\n",
    "\n",
    "20. Write a Python program to generate 26 text files named `A.txt`, `B.txt`, and so on up to `Z.txt`.\n",
    "\n",
    "21. Write a Python program to create a file where all letters of the English alphabet are listed with a specified number of letters on each line.\n",
    "\n"
   ]
  },
  {
   "cell_type": "code",
   "execution_count": 6,
   "metadata": {},
   "outputs": [
    {
     "name": "stdout",
     "output_type": "stream",
     "text": [
      "0.67\n"
     ]
    }
   ],
   "source": [
    "#1 Write a Python program to handle a `ZeroDivisionError` exception when dividing a number by zero\n",
    "try:\n",
    "    a=float(input())\n",
    "    b=float(input())\n",
    "    c=a/b\n",
    "    print(round(c,2))\n",
    "except ZeroDivisionError:\n",
    "    print('zero devision occured')"
   ]
  },
  {
   "cell_type": "code",
   "execution_count": 9,
   "metadata": {},
   "outputs": [
    {
     "name": "stdout",
     "output_type": "stream",
     "text": [
      "value error\n"
     ]
    }
   ],
   "source": [
    "#2 program that prompts the user to input an integer and raises a `ValueError` exception if the input is not a valid integer\n",
    "try:\n",
    "    a=int(input())\n",
    "    print(a)\n",
    "except ValueError:\n",
    "    print('value error')"
   ]
  },
  {
   "cell_type": "code",
   "execution_count": null,
   "metadata": {},
   "outputs": [],
   "source": [
    "#3 opens file if doesnt exist raises FileNotFoundError\n",
    "file = open('oddnumbers.txt', 'r')"
   ]
  },
  {
   "cell_type": "code",
   "execution_count": 25,
   "metadata": {},
   "outputs": [
    {
     "data": {
      "text/plain": [
       "['1 3 5 7 9 11 13 ']"
      ]
     },
     "execution_count": 25,
     "metadata": {},
     "output_type": "execute_result"
    }
   ],
   "source": [
    "file.readlines()"
   ]
  },
  {
   "cell_type": "code",
   "execution_count": null,
   "metadata": {},
   "outputs": [],
   "source": []
  }
 ],
 "metadata": {
  "kernelspec": {
   "display_name": "Python 3",
   "language": "python",
   "name": "python3"
  },
  "language_info": {
   "codemirror_mode": {
    "name": "ipython",
    "version": 3
   },
   "file_extension": ".py",
   "mimetype": "text/x-python",
   "name": "python",
   "nbconvert_exporter": "python",
   "pygments_lexer": "ipython3",
   "version": "3.13.2"
  }
 },
 "nbformat": 4,
 "nbformat_minor": 2
}
