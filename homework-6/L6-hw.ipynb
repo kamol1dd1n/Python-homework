{
 "cells": [
  {
   "cell_type": "markdown",
   "metadata": {},
   "source": [
    "# Homeworks\n",
    "\n",
    "## 1. Modify String with Underscores\n",
    "Given a string `txt`, insert an underscore (`_`) after every third character. If a character is a vowel or already has an underscore after it, shift the underscore placement to the next character. No underscore should be added at the end.\n",
    "\n",
    "### Examples\n",
    "**Input:** `hello`\n",
    "**Output:** `hel_lo`\n",
    "\n",
    "**Input:** `assalom`\n",
    "**Output:** `ass_alom`\n",
    "\n",
    "**Input:** `abcabcabcdeabcdefabcdefg`\n",
    "**Output:** `abc_abc_abcd_abcd_abcdef`\n",
    "\n",
    "---\n",
    "\n",
    "## 2. Integer Squares Exercise\n",
    "\n",
    "### Task\n",
    "The provided code stub reads an integer, `n`, from STDIN. For all non-negative integers `i` where `0 <= i < n`, print `i^2`.\n",
    "\n",
    "### Example Input\n",
    "```\n",
    "5\n",
    "```\n",
    "\n",
    "### Example Output\n",
    "```\n",
    "0\n",
    "1\n",
    "4\n",
    "9\n",
    "16\n",
    "```\n",
    "\n",
    "### Input Format\n",
    "The first and only line contains the integer, `n`.\n",
    "\n",
    "### Constraints\n",
    "- `1 <= n <= 20`\n",
    "\n",
    "### Output Format\n",
    "Print `n` lines, one corresponding to each `i^2` where `0 <= i < n`.\n",
    "\n",
    "---\n",
    "\n",
    "## 3. Loop-Based Exercises\n",
    "\n",
    "### Exercise 1: Print first 10 natural numbers using a while loop\n",
    "\n",
    "### Exercise 2: Print the following pattern\n",
    "```\n",
    "1\n",
    "1 2\n",
    "1 2 3\n",
    "1 2 3 4\n",
    "1 2 3 4 5\n",
    "```\n",
    "\n",
    "### Exercise 3: Calculate sum of all numbers from 1 to a given number\n",
    "**Example:**\n",
    "```\n",
    "Enter number 10\n",
    "Sum is: 55\n",
    "```\n",
    "\n",
    "### Exercise 4: Print multiplication table of a given number\n",
    "**Example:**\n",
    "```\n",
    "2\n",
    "4\n",
    "6\n",
    "8\n",
    "10\n",
    "12\n",
    "14\n",
    "16\n",
    "18\n",
    "20\n",
    "```\n",
    "\n",
    "### Exercise 5: Display numbers from a list using a loop\n",
    "**Given:**\n",
    "```python\n",
    "numbers = [12, 75, 150, 180, 145, 525, 50]\n",
    "```\n",
    "**Expected Output:**\n",
    "```\n",
    "75\n",
    "150\n",
    "145\n",
    "```\n",
    "\n",
    "### Exercise 6: Count the total number of digits in a number\n",
    "**Example:**\n",
    "```\n",
    "75869\n",
    "Output: 5\n",
    "```\n",
    "\n",
    "### Exercise 7: Print reverse number pattern\n",
    "```\n",
    "5 4 3 2 1\n",
    "4 3 2 1\n",
    "3 2 1\n",
    "2 1\n",
    "1\n",
    "```\n",
    "\n",
    "### Exercise 8: Print list in reverse order using a loop\n",
    "**Given:**\n",
    "```python\n",
    "list1 = [10, 20, 30, 40, 50]\n",
    "```\n",
    "**Expected Output:**\n",
    "```\n",
    "50\n",
    "40\n",
    "30\n",
    "20\n",
    "10\n",
    "```\n",
    "\n",
    "### Exercise 9: Display numbers from -10 to -1 using a for loop\n",
    "```\n",
    "-10\n",
    "-9\n",
    "-8\n",
    "-7\n",
    "-6\n",
    "-5\n",
    "-4\n",
    "-3\n",
    "-2\n",
    "-1\n",
    "```\n",
    "\n",
    "### Exercise 10: Display message “Done” after successful loop execution\n",
    "**Example:**\n",
    "```python\n",
    "0\n",
    "1\n",
    "2\n",
    "3\n",
    "4\n",
    "Done!\n",
    "```\n",
    "\n",
    "### Exercise 11: Print all prime numbers within a range\n",
    "**Example:**\n",
    "```\n",
    "Prime numbers between 25 and 50:\n",
    "29\n",
    "31\n",
    "37\n",
    "41\n",
    "43\n",
    "47\n",
    "```\n",
    "\n",
    "### Exercise 12: Display Fibonacci series up to 10 terms\n",
    "**Example:**\n",
    "```\n",
    "Fibonacci sequence:\n",
    "0  1  1  2  3  5  8  13  21  34\n",
    "```\n",
    "\n",
    "### Exercise 13: Find the factorial of a given number\n",
    "**Example:**\n",
    "```\n",
    "5! = 120\n",
    "```\n",
    "\n",
    "---\n",
    "\n",
    "## Exercise 14: Return Uncommon Elements of Lists\n",
    "### Task\n",
    "Return the elements that are not common between two lists. The order of elements does not matter.\n",
    "\n",
    "### Examples\n",
    "- **Input:** `list1 = [1, 1, 2], list2 = [2, 3, 4]`  \n",
    "  **Output:** `[1, 1, 3, 4]`\n",
    "\n",
    "- **Input:** `list1 = [1, 2, 3], list2 = [4, 5, 6]`  \n",
    "  **Output:** `[1, 2, 3, 4, 5, 6]`\n",
    "\n",
    "- **Input:** `list1 = [1, 1, 2, 3, 4, 2], list2 = [1, 3, 4, 5]`  \n",
    "  **Output:** `[2, 2, 5]`\n"
   ]
  },
  {
   "cell_type": "code",
   "execution_count": null,
   "metadata": {},
   "outputs": [],
   "source": [
    "#1\n"
   ]
  },
  {
   "cell_type": "code",
   "execution_count": null,
   "metadata": {},
   "outputs": [
    {
     "name": "stdout",
     "output_type": "stream",
     "text": [
      "0\n",
      "1\n",
      "4\n",
      "9\n",
      "16\n",
      "25\n"
     ]
    }
   ],
   "source": [
    "#2\n",
    "n=int(input())\n",
    "for i in range(n):\n",
    "    print(i**2)\n"
   ]
  },
  {
   "cell_type": "code",
   "execution_count": 4,
   "metadata": {},
   "outputs": [
    {
     "name": "stdout",
     "output_type": "stream",
     "text": [
      "1\n",
      "2\n",
      "3\n",
      "4\n",
      "5\n",
      "6\n",
      "7\n",
      "8\n",
      "9\n",
      "10\n"
     ]
    }
   ],
   "source": [
    "#3 Exercise 1: Print first 10 natural numbers using a while loop\n",
    "n=1\n",
    "while n<=10:\n",
    "    print(n)\n",
    "    n=n+1"
   ]
  },
  {
   "cell_type": "code",
   "execution_count": 20,
   "metadata": {},
   "outputs": [
    {
     "name": "stdout",
     "output_type": "stream",
     "text": [
      "\n",
      "1 \n",
      "1 2 \n",
      "1 2 3 \n",
      "1 2 3 4 \n",
      "1 2 3 4 5 "
     ]
    }
   ],
   "source": [
    "#4 Exercise 2: Print the following pattern\n",
    "#1\n",
    "#1 2\n",
    "#1 2 3\n",
    "#1 2 3 4\n",
    "#1 2 3 4 5\n",
    "for i in range(1,6):\n",
    "    print()\n",
    "    for j in range(1,i+1):\n",
    "        print(j, end=\" \")"
   ]
  },
  {
   "cell_type": "code",
   "execution_count": 30,
   "metadata": {},
   "outputs": [
    {
     "name": "stdout",
     "output_type": "stream",
     "text": [
      "u entered: 15\n",
      "sum till 15 is: 120\n"
     ]
    }
   ],
   "source": [
    "#5 Exercise 3: Calculate sum of all numbers from 1 to a given number\n",
    "n=int(input())\n",
    "total=0\n",
    "for i in range(n+1):\n",
    "    total=total+i\n",
    "print(f'u entered: {n}')\n",
    "print(f'sum till {n} is: {total}')"
   ]
  },
  {
   "cell_type": "code",
   "execution_count": 32,
   "metadata": {},
   "outputs": [
    {
     "name": "stdout",
     "output_type": "stream",
     "text": [
      "1x6=6\n",
      "2x6=12\n",
      "3x6=18\n",
      "4x6=24\n",
      "5x6=30\n",
      "6x6=36\n",
      "7x6=42\n",
      "8x6=48\n",
      "9x6=54\n"
     ]
    }
   ],
   "source": [
    "#6 Exercise 4: Print multiplication table of a given number\n",
    "n=int(input())\n",
    "for i in range(1,10):\n",
    "    print(f'{i}x{n}={i*n}')"
   ]
  },
  {
   "cell_type": "code",
   "execution_count": 36,
   "metadata": {},
   "outputs": [
    {
     "name": "stdout",
     "output_type": "stream",
     "text": [
      "12\n",
      "75\n",
      "150\n",
      "180\n",
      "145\n",
      "525\n",
      "50\n"
     ]
    }
   ],
   "source": [
    "#7 Exercise 5: Display numbers from a list using a loop\n",
    "list_numbers = [12, 75, 150, 180, 145, 525, 50]\n",
    "for i in range(0,len(list_numbers)):\n",
    "    print(list_numbers[i])"
   ]
  },
  {
   "cell_type": "code",
   "execution_count": 40,
   "metadata": {},
   "outputs": [
    {
     "name": "stdout",
     "output_type": "stream",
     "text": [
      "ur number is: 1564895\n",
      "ur number 1564895 contains 7 digits\n"
     ]
    }
   ],
   "source": [
    "#8 Exercise 6: Count the total number of digits in a number\n",
    "n=input()\n",
    "print(f'ur number is: {n}')\n",
    "print(f'ur number {n} contains {len(n)} digits')"
   ]
  },
  {
   "cell_type": "code",
   "execution_count": 23,
   "metadata": {},
   "outputs": [
    {
     "name": "stdout",
     "output_type": "stream",
     "text": [
      "5 4 3 2 1 \n",
      "4 3 2 1 \n",
      "3 2 1 \n",
      "2 1 \n",
      "1 \n"
     ]
    }
   ],
   "source": [
    "#9 Exercise 7: Print reverse number pattern\n",
    "#5 4 3 2 1\n",
    "#4 3 2 1\n",
    "#3 2 1\n",
    "#2 1\n",
    "#1\n",
    "for i in range(5,0,-1):\n",
    "    for j in range(i,0,-1):\n",
    "        print(j, end=\" \")\n",
    "    print()"
   ]
  },
  {
   "cell_type": "code",
   "execution_count": 26,
   "metadata": {},
   "outputs": [
    {
     "name": "stdout",
     "output_type": "stream",
     "text": [
      "50\n",
      "40\n",
      "30\n",
      "20\n",
      "10\n"
     ]
    }
   ],
   "source": [
    "#10 Exercise 8: Print list in reverse order using a loop\n",
    "list1 = [10, 20, 30, 40, 50]\n",
    "for i in range(len(list1)-1,-1,-1):\n",
    "    print(list1[i])"
   ]
  },
  {
   "cell_type": "code",
   "execution_count": 34,
   "metadata": {},
   "outputs": [
    {
     "name": "stdout",
     "output_type": "stream",
     "text": [
      "-10\n",
      "-9\n",
      "-8\n",
      "-7\n",
      "-6\n",
      "-5\n",
      "-4\n",
      "-3\n",
      "-2\n",
      "-1\n"
     ]
    }
   ],
   "source": [
    "#11 Exercise 9: Display numbers from -10 to -1 using a for loop\n",
    "for i in range(10,0,-1):\n",
    "    print(-i)"
   ]
  },
  {
   "cell_type": "code",
   "execution_count": 40,
   "metadata": {},
   "outputs": [
    {
     "name": "stdout",
     "output_type": "stream",
     "text": [
      "0\n",
      "1\n",
      "2\n",
      "3\n",
      "4\n",
      "done\n"
     ]
    }
   ],
   "source": [
    "#12 Exercise 10: Display message “Done” after successful loop execution\n",
    "n=int(input())\n",
    "for i in range(n+1):\n",
    "    print(i)\n",
    "print('done')"
   ]
  },
  {
   "cell_type": "code",
   "execution_count": 49,
   "metadata": {},
   "outputs": [
    {
     "name": "stdout",
     "output_type": "stream",
     "text": [
      "29\n",
      "31\n",
      "37\n",
      "41\n",
      "43\n",
      "47\n"
     ]
    }
   ],
   "source": [
    "#13 Exercise 11: Print all prime numbers within a range\n",
    "a=int(input())\n",
    "b=int(input())\n",
    "for i in range(a,b+1):\n",
    "    if i <2:\n",
    "        continue\n",
    "    prime=True\n",
    "    for j in range(2,int(i**0.5)+1):\n",
    "        if i%j==0:\n",
    "            prime=False\n",
    "            break\n",
    "    if prime==True:\n",
    "        print(i)\n"
   ]
  },
  {
   "cell_type": "code",
   "execution_count": 64,
   "metadata": {},
   "outputs": [
    {
     "name": "stdout",
     "output_type": "stream",
     "text": [
      "0 1 1 2 3 5 8 13 21 34 "
     ]
    }
   ],
   "source": [
    "#14 Exercise 12: Display Fibonacci series up to 10 terms\n",
    "a=0\n",
    "b=1\n",
    "for i in range(10):\n",
    "    print(a, end=\" \")\n",
    "    nextnumber=a+b\n",
    "    a=b\n",
    "    b=nextnumber"
   ]
  },
  {
   "cell_type": "code",
   "execution_count": 69,
   "metadata": {},
   "outputs": [
    {
     "name": "stdout",
     "output_type": "stream",
     "text": [
      "120\n"
     ]
    }
   ],
   "source": [
    "#15 Exercise 13: Find the factorial of a given number\n",
    "n=int(input())\n",
    "a=1\n",
    "for i in range(1,n+1):\n",
    "    a=a*i\n",
    "print(a)"
   ]
  },
  {
   "cell_type": "code",
   "execution_count": 75,
   "metadata": {},
   "outputs": [
    {
     "name": "stdout",
     "output_type": "stream",
     "text": [
      "[1, 3, 2, 5, 6, 4]\n"
     ]
    }
   ],
   "source": [
    "#16 Exercise 14: Return Uncommon Elements of Lists\n",
    "list1 = [1, 3, 2]\n",
    "list2 = [5, 6, 4]\n",
    "list3=[]\n",
    "for a in list1:\n",
    "    if a not in list2:\n",
    "        list3.append(a)\n",
    "for b in list2:\n",
    "    if b not in list1:\n",
    "        list3.append(b)\n",
    "print(list3)\n"
   ]
  }
 ],
 "metadata": {
  "kernelspec": {
   "display_name": "Python 3",
   "language": "python",
   "name": "python3"
  },
  "language_info": {
   "codemirror_mode": {
    "name": "ipython",
    "version": 3
   },
   "file_extension": ".py",
   "mimetype": "text/x-python",
   "name": "python",
   "nbconvert_exporter": "python",
   "pygments_lexer": "ipython3",
   "version": "3.13.2"
  }
 },
 "nbformat": 4,
 "nbformat_minor": 2
}
