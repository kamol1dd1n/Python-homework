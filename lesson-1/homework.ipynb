{
 "cells": [
  {
   "cell_type": "markdown",
   "metadata": {},
   "source": [
    "Given a side of square. Find its perimeter and area.\n",
    "Given diameter of circle. Find its length.\n",
    "Given two numbers a and b. Find their mean.\n",
    "Given two numbers a and b. Find their sum, product and square of each number."
   ]
  },
  {
   "cell_type": "code",
   "execution_count": 2,
   "metadata": {},
   "outputs": [
    {
     "name": "stdout",
     "output_type": "stream",
     "text": [
      "Area is: 27.5625 perimeter is: 21.0\n"
     ]
    }
   ],
   "source": [
    "#1\n",
    "a=float(input('Enter side'))\n",
    "S=a**2\n",
    "p=4*a\n",
    "print(f'Area is: {S}', f'perimeter is: {p}')"
   ]
  },
  {
   "cell_type": "code",
   "execution_count": 3,
   "metadata": {},
   "outputs": [
    {
     "name": "stdout",
     "output_type": "stream",
     "text": [
      "Length of a circle is: 175.92918860102841\n"
     ]
    }
   ],
   "source": [
    "#2\n",
    "import math\n",
    "a=float(input('Enter diameter'))\n",
    "c=a*math.pi\n",
    "print(f'Length of a circle is: {c}')"
   ]
  },
  {
   "cell_type": "code",
   "execution_count": 4,
   "metadata": {},
   "outputs": [
    {
     "name": "stdout",
     "output_type": "stream",
     "text": [
      "mean is: 5.25\n"
     ]
    }
   ],
   "source": [
    "#3\n",
    "a=float(input('a='))\n",
    "b=float(input('b='))\n",
    "c=(a+b)/2\n",
    "print(f'mean is: {c}')"
   ]
  },
  {
   "cell_type": "code",
   "execution_count": 8,
   "metadata": {},
   "outputs": [
    {
     "name": "stdout",
     "output_type": "stream",
     "text": [
      "the sum is: 10.0 \n",
      "product is: 25.0 \n",
      "a squared is: 25.0 \n",
      "b squared is: 25.0\n"
     ]
    }
   ],
   "source": [
    "#4\n",
    "a=float(input('a='))\n",
    "b=float(input('b='))\n",
    "c=a+b\n",
    "d=a*b\n",
    "e=pow(a,2)\n",
    "f=b**2\n",
    "print(f'the sum is: {c}', f'\\nproduct is: {d}', f'\\na squared is: {e}', f'\\nb squared is: {f}')"
   ]
  }
 ],
 "metadata": {
  "kernelspec": {
   "display_name": "Python 3",
   "language": "python",
   "name": "python3"
  },
  "language_info": {
   "codemirror_mode": {
    "name": "ipython",
    "version": 3
   },
   "file_extension": ".py",
   "mimetype": "text/x-python",
   "name": "python",
   "nbconvert_exporter": "python",
   "pygments_lexer": "ipython3",
   "version": "3.13.2"
  }
 },
 "nbformat": 4,
 "nbformat_minor": 2
}
