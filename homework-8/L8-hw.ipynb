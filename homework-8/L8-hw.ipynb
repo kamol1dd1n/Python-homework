{
 "cells": [
  {
   "cell_type": "markdown",
   "metadata": {},
   "source": [
    "# Homework:\n",
    "\n",
    "# Python Exception Handling: Exercises, Solutions, and Practice\n",
    "\n",
    "## Exception Handling Exercises\n",
    "\n",
    "1. Write a Python program to handle a `ZeroDivisionError` exception when dividing a number by zero.\n",
    "\n",
    "2. Write a Python program that prompts the user to input an integer and raises a `ValueError` exception if the input is not a valid integer.\n",
    "\n",
    "3. Write a Python program that opens a file and handles a `FileNotFoundError` exception if the file does not exist.\n",
    "\n",
    "4. Write a Python program that prompts the user to input two numbers and raises a `TypeError` exception if the inputs are not numerical.\n",
    "\n",
    "5. Write a Python program that opens a file and handles a `PermissionError` exception if there is a permission issue.\n",
    "\n",
    "6. Write a Python program that executes an operation on a list and handles an `IndexError` exception if the index is out of range.\n",
    "\n",
    "7. Write a Python program that prompts the user to input a number and handles a `KeyboardInterrupt` exception if the user cancels the input.\n",
    "\n",
    "8. Write a Python program that executes division and handles an `ArithmeticError` exception if there is an arithmetic error.\n",
    "\n",
    "9. Write a Python program that opens a file and handles a `UnicodeDecodeError` exception if there is an encoding issue.\n",
    "\n",
    "10. Write a Python program that executes a list operation and handles an `AttributeError` exception if the attribute does not exist.\n",
    "\n",
    "---\n",
    "\n",
    "# Python File Input Output: Exercises, Practice, Solution\n",
    "\n",
    "## File Input/Output Exercises\n",
    "\n",
    "1. Write a Python program to read an entire text file.\n",
    "\n",
    "2. Write a Python program to read first `n` lines of a file.\n",
    "\n",
    "3. Write a Python program to append text to a file and display the text.\n",
    "\n",
    "4. Write a Python program to read last `n` lines of a file.\n",
    "\n",
    "5. Write a Python program to read a file line by line and store it into a list.\n",
    "\n",
    "6. Write a Python program to read a file line by line and store it into a variable.\n",
    "\n",
    "7. Write a Python program to read a file line by line and store it into an array.\n",
    "\n",
    "8. Write a Python program to find the longest words.\n",
    "\n",
    "9. Write a Python program to count the number of lines in a text file.\n",
    "\n",
    "10. Write a Python program to count the frequency of words in a file.\n",
    "\n",
    "11. Write a Python program to get the file size of a plain file.\n",
    "\n",
    "12. Write a Python program to write a list to a file.\n",
    "\n",
    "13. Write a Python program to copy the contents of a file to another file.\n",
    "\n",
    "14. Write a Python program to combine each line from the first file with the corresponding line in the second file.\n",
    "\n",
    "15. Write a Python program to read a random line from a file.\n",
    "\n",
    "16. Write a Python program to assess if a file is closed or not.\n",
    "\n",
    "17. Write a Python program to remove newline characters from a file.\n",
    "\n",
    "18. Write a Python program that takes a text file as input and returns the number of words in a given text file.\n",
    "   - **Note:** Some words can be separated by a comma with no space.\n",
    "\n",
    "19. Write a Python program to extract characters from various text files and put them into a list.\n",
    "\n",
    "20. Write a Python program to generate 26 text files named `A.txt`, `B.txt`, and so on up to `Z.txt`.\n",
    "\n",
    "21. Write a Python program to create a file where all letters of the English alphabet are listed with a specified number of letters on each line.\n",
    "\n"
   ]
  },
  {
   "cell_type": "code",
   "execution_count": 6,
   "metadata": {},
   "outputs": [
    {
     "name": "stdout",
     "output_type": "stream",
     "text": [
      "0.67\n"
     ]
    }
   ],
   "source": [
    "#1 Write a Python program to handle a `ZeroDivisionError` exception when dividing a number by zero\n",
    "try:\n",
    "    a=float(input())\n",
    "    b=float(input())\n",
    "    c=a/b\n",
    "    print(round(c,2))\n",
    "except ZeroDivisionError:\n",
    "    print('zero devision occured')"
   ]
  },
  {
   "cell_type": "code",
   "execution_count": 9,
   "metadata": {},
   "outputs": [
    {
     "name": "stdout",
     "output_type": "stream",
     "text": [
      "value error\n"
     ]
    }
   ],
   "source": [
    "#2 program that prompts the user to input an integer and raises a `ValueError` exception if the input is not a valid integer\n",
    "try:\n",
    "    a=int(input())\n",
    "    print(a)\n",
    "except ValueError:\n",
    "    print('value error')"
   ]
  },
  {
   "cell_type": "code",
   "execution_count": null,
   "metadata": {},
   "outputs": [
    {
     "name": "stdout",
     "output_type": "stream",
     "text": [
      "file not found\n"
     ]
    }
   ],
   "source": [
    "#3 opens file if doesnt exist raises FileNotFoundError\n",
    "try:\n",
    "    file = open('oddnumbers.txt', 'r')\n",
    "    content=file.readlines()\n",
    "    print(content)\n",
    "    file.close()\n",
    "except FileNotFoundError:\n",
    "    print('file not found')"
   ]
  },
  {
   "cell_type": "code",
   "execution_count": null,
   "metadata": {},
   "outputs": [
    {
     "name": "stdout",
     "output_type": "stream",
     "text": [
      "ur numbers r 4546455.32212121 and 2162112515.0\n"
     ]
    }
   ],
   "source": [
    "#4 raises TypeError if input is not numerical\n",
    "try:\n",
    "    a=float(input())\n",
    "    b=float(input())\n",
    "    print(f'ur numbers r {round(a,2)} and {round(b,2)}')\n",
    "except ValueError:\n",
    "    print('TypeError')"
   ]
  },
  {
   "cell_type": "code",
   "execution_count": null,
   "metadata": {},
   "outputs": [],
   "source": [
    "#5 opens a file and handles a `PermissionError` exception\n",
    "try:\n",
    "    file=open('oddnumbers.txt', 'r')\n",
    "    content=file.readlines()\n",
    "    print(content)\n",
    "    file.close()\n",
    "except PermissionError:\n",
    "    print('permission error occured')"
   ]
  },
  {
   "cell_type": "code",
   "execution_count": 24,
   "metadata": {},
   "outputs": [
    {
     "name": "stdout",
     "output_type": "stream",
     "text": [
      "Please enter number between 0 and 20\n"
     ]
    }
   ],
   "source": [
    "#6 handling index error\n",
    "try:\n",
    "    a=[]\n",
    "    b=int(input(\"Enter an index: \"))\n",
    "    for i in range(21):\n",
    "        a.append(i)\n",
    "    print(a[b])\n",
    "except IndexError:\n",
    "    print('Please enter number between 0 and 20')"
   ]
  },
  {
   "cell_type": "code",
   "execution_count": 1,
   "metadata": {},
   "outputs": [
    {
     "name": "stdout",
     "output_type": "stream",
     "text": [
      "the area is: 30\n"
     ]
    }
   ],
   "source": [
    "#7  handles a `KeyboardInterrupt` exception\n",
    "try:\n",
    "    a=int(input())\n",
    "    b=int(input())\n",
    "    s=a*b\n",
    "    print(f'the area is: {s}')\n",
    "except KeyboardInterrupt:\n",
    "    print('programm was stopped')"
   ]
  },
  {
   "cell_type": "code",
   "execution_count": 4,
   "metadata": {},
   "outputs": [
    {
     "name": "stdout",
     "output_type": "stream",
     "text": [
      "arithmetic error occured\n"
     ]
    }
   ],
   "source": [
    "#8 executes division and handles an `ArithmeticError`\n",
    "try:\n",
    "    a=float(input())\n",
    "    b=float(input())\n",
    "    s=round(a/b,2)\n",
    "    print(s)\n",
    "except ArithmeticError:\n",
    "    print('arithmetic error occured')"
   ]
  },
  {
   "cell_type": "code",
   "execution_count": 7,
   "metadata": {},
   "outputs": [
    {
     "name": "stdout",
     "output_type": "stream",
     "text": [
      "['1 3 5 7 9 11 13 ']\n"
     ]
    }
   ],
   "source": [
    "#9 opens a file and handles a `UnicodeDecodeError` exception\n",
    "try:\n",
    "    file=open('oddnumbers.txt', 'r')\n",
    "    content=file.readlines()\n",
    "    print(content)\n",
    "    file.close()\n",
    "except UnicodeDecodeError:\n",
    "    print('error occured')"
   ]
  },
  {
   "cell_type": "code",
   "execution_count": null,
   "metadata": {},
   "outputs": [
    {
     "name": "stdout",
     "output_type": "stream",
     "text": [
      "lis has no such attribute\n"
     ]
    }
   ],
   "source": [
    "#10 executes a list operation and handles an `AttributeError`\n",
    "try:\n",
    "    a=['a','b','c','d']\n",
    "    print(a.upper())\n",
    "except AttributeError:\n",
    "    print('list has no such attribute')"
   ]
  },
  {
   "cell_type": "code",
   "execution_count": 3,
   "metadata": {},
   "outputs": [
    {
     "name": "stdout",
     "output_type": "stream",
     "text": [
      "1 3 5 7 9 \n",
      "11 13 15 17 19\n",
      "21 23 25 27 29\n"
     ]
    }
   ],
   "source": [
    "#1 Python program to read an entire text file\n",
    "text=open(\"oddnumbers.txt\", \"r\")\n",
    "content=text.read()\n",
    "print(content)"
   ]
  },
  {
   "cell_type": "code",
   "execution_count": null,
   "metadata": {},
   "outputs": [
    {
     "name": "stdout",
     "output_type": "stream",
     "text": [
      "11 13 15 17 19\n",
      "\n"
     ]
    }
   ],
   "source": [
    "#2  Write a Python program to read first `n` lines of a file.\n",
    "n=int(input(\"how many lines u want to read? \"))\n",
    "text=open(\"oddnumbers.txt\", \"r\")\n",
    "content=text.readlines()\n",
    "text.close\n",
    "line=content[n-1]\n",
    "print(line)"
   ]
  },
  {
   "cell_type": "code",
   "execution_count": null,
   "metadata": {},
   "outputs": [],
   "source": [
    "#without \\n\n",
    "#text=open(\"oddnumbers.txt\", \"r\")\n",
    "#content=text.readlines()\n",
    "#newlist=[]\n",
    "#for line in content:\n",
    "#    if line[-1]=='\\n':\n",
    "#        newlist.append(line[:-1])\n",
    "#    else:\n",
    "#       newlist.append(line)\n",
    "#print(newlist)"
   ]
  },
  {
   "cell_type": "code",
   "execution_count": 31,
   "metadata": {},
   "outputs": [
    {
     "name": "stdout",
     "output_type": "stream",
     "text": [
      "['0 2 4 6 8 10 12 14 16 18 20 22 24 26 28 30 32 34 36 38 40 42 44 46 48 50 52 54 ']\n"
     ]
    }
   ],
   "source": [
    "#3 append text to a file and display the text\n",
    "n=int(input('enter number: '))\n",
    "text=open(\"evennumbers.txt\", \"w\")\n",
    "for i in range(0,n+1,2):\n",
    "    text.write(f'{i} ')\n",
    "text.close()\n",
    "text1=open('evennumbers.txt', 'r')\n",
    "content=text1.readlines()\n",
    "print(content)"
   ]
  },
  {
   "cell_type": "code",
   "execution_count": 57,
   "metadata": {},
   "outputs": [
    {
     "name": "stdout",
     "output_type": "stream",
     "text": [
      "30 32 34\n",
      "36 38 40\n",
      "42 44 46\n",
      "48 50 52\n",
      "54\n"
     ]
    }
   ],
   "source": [
    "#4 read last `n` lines of a file\n",
    "n=int(input(\"how many lines from end u want to read? \"))\n",
    "text=open(\"evennumbers.txt\", \"r\")\n",
    "content=text.readlines()\n",
    "line=content[-n:]\n",
    "text.close()\n",
    "for i in line:\n",
    "    print(i.strip())\n"
   ]
  },
  {
   "cell_type": "code",
   "execution_count": 45,
   "metadata": {},
   "outputs": [
    {
     "name": "stdout",
     "output_type": "stream",
     "text": [
      "['0 2 4 ', '6 8 10 ', '12 14 16 ', '18 20 22 ', '24 26 28 ', '30 32 34 ', '36 38 40 ', '42 44 46 ', '48 50 52 ', '54 ']\n"
     ]
    }
   ],
   "source": [
    "#5 read a file line by line and store it into a list\n",
    "file=open('evennumbers.txt', 'r')\n",
    "content=file.readlines()\n",
    "a=[]\n",
    "for i in content:\n",
    "    if i[-1]=='\\n':\n",
    "        a.append(i[:-1])\n",
    "    else:\n",
    "        a.append(i)\n",
    "print(a)"
   ]
  },
  {
   "cell_type": "code",
   "execution_count": 50,
   "metadata": {},
   "outputs": [
    {
     "name": "stdout",
     "output_type": "stream",
     "text": [
      "0 2 4 \n",
      "6 8 10 \n",
      "12 14 16 \n",
      "18 20 22 \n",
      "24 26 28 \n",
      "30 32 34 \n",
      "36 38 40 \n",
      "42 44 46 \n",
      "48 50 52 \n",
      "54 \n"
     ]
    },
    {
     "data": {
      "text/plain": [
       "str"
      ]
     },
     "execution_count": 50,
     "metadata": {},
     "output_type": "execute_result"
    }
   ],
   "source": [
    "#6 read a file line by line and store it into a variable.\n",
    "file=open('evennumbers.txt', 'r')\n",
    "data=file.read()\n",
    "file.close()\n",
    "print(data)\n",
    "type(data)"
   ]
  },
  {
   "cell_type": "code",
   "execution_count": null,
   "metadata": {},
   "outputs": [],
   "source": [
    "#7 read a file line by line and store it into an array.\n"
   ]
  },
  {
   "cell_type": "code",
   "execution_count": 95,
   "metadata": {},
   "outputs": [
    {
     "name": "stdout",
     "output_type": "stream",
     "text": [
      "the longest word in a file is: \n",
      "rohmatullohi\n"
     ]
    }
   ],
   "source": [
    "#8 to find the longest word in a txt file\n",
    "with open('simple.txt', 'r') as file:\n",
    "    content=file.readlines()\n",
    "a=[]\n",
    "for i in content:\n",
    "    a.append(i.strip())\n",
    "b=[]\n",
    "for i in a:\n",
    "    words=i.split()\n",
    "    for word in words:\n",
    "        b.append(word)\n",
    "c=[]\n",
    "for i in b:\n",
    "    length=len(i)\n",
    "    c.append(length)\n",
    "#maxlen=max(c)\n",
    "for i in b:\n",
    "    if len(i)==max(c):\n",
    "        print(f'the longest word in a file is: \\n{i}')\n",
    "    \n"
   ]
  },
  {
   "cell_type": "code",
   "execution_count": 109,
   "metadata": {},
   "outputs": [
    {
     "name": "stdout",
     "output_type": "stream",
     "text": [
      "file has 7 lines\n"
     ]
    }
   ],
   "source": [
    "#9 count the number of lines in a text file\n",
    "file=open('simple.txt', 'r')\n",
    "content=file.readlines()\n",
    "print(f'file has {len(content)} lines')"
   ]
  },
  {
   "cell_type": "code",
   "execution_count": 116,
   "metadata": {},
   "outputs": [
    {
     "name": "stdout",
     "output_type": "stream",
     "text": [
      "{'Assalomu': 1, 'alaykum': 1, 'va': 2, 'rohmatullohi': 1, 'barokatuh': 1, 'Peter': 1, 'Coca-cola': 1, \"'acuna\": 1, \"matata'\": 1, '1234567': 1}\n"
     ]
    }
   ],
   "source": [
    "#10 count the frequency of words in a file\n",
    "with open('simple.txt', 'r') as file:\n",
    "    content=file.readlines()\n",
    "a=[]\n",
    "for i in content:\n",
    "    a.append(i.strip())\n",
    "b=[]\n",
    "for i in a:\n",
    "    words=i.split()\n",
    "    for word in words:\n",
    "        b.append(word)\n",
    "counts=dict()\n",
    "for i in b:\n",
    "    if i in counts:\n",
    "        counts[i]=counts[i]+1\n",
    "    else:\n",
    "        counts[i]=1\n",
    "print(counts)\n"
   ]
  },
  {
   "cell_type": "code",
   "execution_count": 117,
   "metadata": {},
   "outputs": [
    {
     "name": "stdout",
     "output_type": "stream",
     "text": [
      "The file size is 91 bytes\n"
     ]
    }
   ],
   "source": [
    "#11 get the file size of a plain file\n",
    "import os\n",
    "file_size = os.path.getsize('simple.txt')\n",
    "print(f\"The file size is {file_size} bytes\")"
   ]
  },
  {
   "cell_type": "code",
   "execution_count": 119,
   "metadata": {},
   "outputs": [],
   "source": [
    "#12 Write a Python program to write a list to a file\n",
    "fruits=['apple', 'apricot', 'banana', 'pear', 'peach', 'grapes', 'cherry']\n",
    "file=open('fruits.txt', 'w')\n",
    "for i in fruits:\n",
    "    file.write(i+'\\n')\n",
    "file.close()\n"
   ]
  },
  {
   "cell_type": "code",
   "execution_count": 123,
   "metadata": {},
   "outputs": [],
   "source": [
    "#13 copy the contents of a file to another file\n",
    "file=open('fruits.txt', 'r')\n",
    "content=file.read()\n",
    "file2=open('fruitscopied.txt', 'w')\n",
    "content2=file2.write(content)\n",
    "file2.close()"
   ]
  },
  {
   "cell_type": "code",
   "execution_count": null,
   "metadata": {},
   "outputs": [],
   "source": [
    "#14 combine each line from the first file with the corresponding line in the second file\n",
    "#file=open('evennumbers.txt', 'r')\n",
    "#file2=open('fruits.txt', 'r')\n",
    "#file3=open('newfile', 'w')\n",
    "#contents=file.read()\n",
    "#contents2=file2.read()\n",
    "#contents3=file3.write(contents)\n",
    "#contents3=file3.write(contents2)\n",
    "#file.close()\n",
    "#file2.close()\n",
    "#file3.close()"
   ]
  },
  {
   "cell_type": "code",
   "execution_count": null,
   "metadata": {},
   "outputs": [
    {
     "name": "stdout",
     "output_type": "stream",
     "text": [
      "copied to newfile\n"
     ]
    }
   ],
   "source": [
    "#14 combine wach line from the first file with the corresponding line in the second file\n",
    "file=open('evennumbers.txt', 'r')\n",
    "file2=open('fruits.txt', 'r')\n",
    "file3=open('newfile.txt', 'w')\n",
    "contents=file.readlines()\n",
    "contents2=file2.readlines()\n",
    "a=[]\n",
    "b=[]\n",
    "for i in contents:\n",
    "    a.append(i.strip())\n",
    "for i in contents2:\n",
    "    b.append(i.strip())\n",
    "#print(contents)\n",
    "#print(contents2)\n",
    "#print(a)\n",
    "#print(b)\n",
    "c=[]\n",
    "zipped=list(zip(a, b))\n",
    "for i in range(len(zipped)):\n",
    "        c.append(f'{zipped[i][0]}-{zipped[i][1]}')\n",
    "#print(c)\n",
    "for i in range(len(c)):\n",
    "    file3.write(f'{c[i]}\\n')\n",
    "#maxlines=max(len(contents), len(contents2))\n",
    "#for i in range(maxlines):\n",
    "#    file3.write(f'{contents[i]} {contents2[i]}\\n')\n",
    "print('copied to newfile')\n",
    "file.close()\n",
    "file2.close()\n",
    "file3.close()\n"
   ]
  },
  {
   "cell_type": "code",
   "execution_count": 49,
   "metadata": {},
   "outputs": [
    {
     "name": "stdout",
     "output_type": "stream",
     "text": [
      "line 3 says: 12 14 16 \n",
      "\n"
     ]
    }
   ],
   "source": [
    "#15 read a random line from a file\n",
    "import random\n",
    "with open('evennumbers.txt', 'r') as file:\n",
    "    meaning=file.readlines()\n",
    "    a=random.randint(0,len(meaning))\n",
    "    randomline=meaning[a-1]\n",
    "print(f'line {a} says: {randomline}')\n"
   ]
  },
  {
   "cell_type": "code",
   "execution_count": 55,
   "metadata": {},
   "outputs": [],
   "source": [
    "file=open('fruits.txt', 'r')\n",
    "file.close()"
   ]
  },
  {
   "cell_type": "code",
   "execution_count": null,
   "metadata": {},
   "outputs": [
    {
     "name": "stdout",
     "output_type": "stream",
     "text": [
      "file is open\n"
     ]
    }
   ],
   "source": [
    "#16 assess if a file is closed or not\n",
    "#def filecheck(name):\n",
    "#    file=open(name, 'r')\n",
    "#    if not file.closed:\n",
    "#        print('file is open')\n",
    "#    if file.closed:\n",
    "#        print('file is closed')\n",
    "#filecheck('fruits.txt')"
   ]
  },
  {
   "cell_type": "code",
   "execution_count": 29,
   "metadata": {},
   "outputs": [
    {
     "name": "stdout",
     "output_type": "stream",
     "text": [
      "['0 2 4-apple\\n', '6 8 10-apricot\\n', '12 14 16-banana\\n', '18 20 22-pear\\n', '24 26 28-peach\\n', '30 32 34-grapes\\n', '36 38 40-cherry\\n', '42 44 46-pomegranate\\n']\n",
      "['0 2 4-apple', '6 8 10-apricot', '12 14 16-banana', '18 20 22-pear', '24 26 28-peach', '30 32 34-grapes', '36 38 40-cherry', '42 44 46-pomegranate']\n"
     ]
    }
   ],
   "source": [
    "#17 to remove newline characters from a file\n",
    "with open('newfile.txt', 'r') as file:\n",
    "    inside=file.readlines()\n",
    "    print(inside)\n",
    "    a=[]\n",
    "    for i in inside:\n",
    "        a.append(i.strip())\n",
    "print(a)\n"
   ]
  },
  {
   "cell_type": "code",
   "execution_count": 26,
   "metadata": {},
   "outputs": [
    {
     "name": "stdout",
     "output_type": "stream",
     "text": [
      "words in newfile.txt are: 24\n"
     ]
    }
   ],
   "source": [
    "#18 takes a text file as input and returns the number of words in a given text file.\n",
    "# Note: Some words can be separated by a comma with no space.\n",
    "def word_count(name):\n",
    "    with open(name, 'r') as file:\n",
    "        context=file.read()\n",
    "        #print(context)\n",
    "        newlist=[]\n",
    "        for i in context.split(','):\n",
    "            newlist.extend(i.split())\n",
    "        count=len(newlist)\n",
    "        #print(newlist)\n",
    "        print(f'words in {name} are: {count}')\n",
    "word_count('newfile.txt')"
   ]
  },
  {
   "cell_type": "code",
   "execution_count": 27,
   "metadata": {},
   "outputs": [],
   "source": [
    "#with open('newfile.txt', 'r') as file:\n",
    "#    content=file.read()\n",
    "#    for i in content:\n",
    "#        print(i)\n",
    "#    print(type(i))"
   ]
  },
  {
   "cell_type": "code",
   "execution_count": 35,
   "metadata": {},
   "outputs": [
    {
     "name": "stdout",
     "output_type": "stream",
     "text": [
      "['1', ' ', '3', ' ', '5', ' ', '7', ' ', '9', ' ', '\\n', '1', '1', ' ', '1', '3', ' ', '1', '5', ' ', '1', '7', ' ', '1', '9', '\\n', '2', '1', ' ', '2', '3', ' ', '2', '5', ' ', '2', '7', ' ', '2', '9', 'A', 's', 's', 'a', 'l', 'o', 'm', 'u', ' ', 'a', 'l', 'a', 'y', 'k', 'u', 'm', '\\n', 'v', 'a', ' ', 'r', 'o', 'h', 'm', 'a', 't', 'u', 'l', 'l', 'o', 'h', 'i', ' ', 'v', 'a', ' ', 'b', 'a', 'r', 'o', 'k', 'a', 't', 'u', 'h', '\\n', 'P', 'e', 't', 'e', 'r', '\\n', '\\n', 'C', 'o', 'c', 'a', '-', 'c', 'o', 'l', 'a', '\\n', \"'\", 'a', 'c', 'u', 'n', 'a', ' ', 'm', 'a', 't', 'a', 't', 'a', \"'\", '\\n', '1', '2', '3', '4', '5', '6', '7']\n"
     ]
    }
   ],
   "source": [
    "#19 extract characters from various text files and put them into a list\n",
    "def extract_characters(files):\n",
    "    a=[]\n",
    "    for i in files:\n",
    "        with open(i, 'r') as file:\n",
    "            content=file.read()\n",
    "            for i in content:\n",
    "                a.append(i)\n",
    "    print(a)\n",
    "extract_characters(['oddnumbers.txt', 'simple.txt'])"
   ]
  },
  {
   "cell_type": "code",
   "execution_count": 38,
   "metadata": {},
   "outputs": [],
   "source": [
    "#20 generate 26 text files named `A.txt`, `B.txt`, and so on up to `Z.txt`\n",
    "letters=['A', 'B', 'C', 'D', 'E', 'F', 'G', 'H', 'I', 'J', 'K', 'L', 'M', 'N', 'O', 'P', 'Q', 'R', 'S', 'T', 'U', 'V', 'W', 'X', 'Y', 'Z']\n",
    "for i in letters:\n",
    "    open((f'{i}.txt'), 'x')\n"
   ]
  },
  {
   "cell_type": "code",
   "execution_count": 40,
   "metadata": {},
   "outputs": [],
   "source": [
    "#21 create a file where all letters of the English alphabet are listed with a specified number of letters on each line\n",
    "letters=['A', 'B', 'C', 'D', 'E', 'F', 'G', 'H', 'I', 'J', 'K', 'L', 'M', 'N', 'O', 'P', 'Q', 'R', 'S', 'T', 'U', 'V', 'W', 'X', 'Y', 'Z']\n",
    "count=1\n",
    "with open('letterlist.txt', 'w') as file:\n",
    "    for i in letters:\n",
    "        file.write(f'{i} - {count} \\n')\n",
    "        count=count+1\n"
   ]
  }
 ],
 "metadata": {
  "kernelspec": {
   "display_name": "Python 3",
   "language": "python",
   "name": "python3"
  },
  "language_info": {
   "codemirror_mode": {
    "name": "ipython",
    "version": 3
   },
   "file_extension": ".py",
   "mimetype": "text/x-python",
   "name": "python",
   "nbconvert_exporter": "python",
   "pygments_lexer": "ipython3",
   "version": "3.13.2"
  }
 },
 "nbformat": 4,
 "nbformat_minor": 2
}
