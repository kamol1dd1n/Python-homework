{
 "cells": [
  {
   "cell_type": "markdown",
   "metadata": {},
   "source": [
    "Python Dictionary and Set Exercises\n",
    "Dictionary Exercises\n",
    "1. Sort a Dictionary by Value\n",
    "Write a Python script to sort (ascending and descending) a dictionary by value.\n",
    "\n",
    "2. Add a Key to a Dictionary\n",
    "Write a Python script to add a key to a dictionary.\n",
    "\n",
    "Sample Dictionary:\n",
    "\n",
    "{0: 10, 1: 20}\n",
    "Expected Result:\n",
    "\n",
    "{0: 10, 1: 20, 2: 30}\n",
    "3. Concatenate Multiple Dictionaries\n",
    "Write a Python script to concatenate the following dictionaries to create a new one.\n",
    "\n",
    "Sample Dictionaries:\n",
    "\n",
    "dic1 = {1: 10, 2: 20}\n",
    "dic2 = {3: 30, 4: 40}\n",
    "dic3 = {5: 50, 6: 60}\n",
    "Expected Result:\n",
    "\n",
    "{1: 10, 2: 20, 3: 30, 4: 40, 5: 50, 6: 60}\n",
    "4. Generate a Dictionary with Squares\n",
    "Write a Python script to generate and print a dictionary that contains a number (between 1 and n) in the form (x, x*x).\n",
    "\n",
    "Sample Dictionary (n = 5):\n",
    "\n",
    "{1: 1, 2: 4, 3: 9, 4: 16, 5: 25}\n",
    "5. Dictionary of Squares (1 to 15)\n",
    "Write a Python script to print a dictionary where the keys are numbers between 1 and 15 (both included) and the values are the square of the keys.\n",
    "\n",
    "Expected Output:\n",
    "\n",
    "{1: 1, 2: 4, 3: 9, 4: 16, 5: 25, 6: 36, 7: 49, 8: 64, 9: 81, 10: 100, 11: 121, 12: 144, 13: 169, 14: 196, 15: 225}\n",
    "Set Exercises\n",
    "1. Create a Set\n",
    "Write a Python program to create a set.\n",
    "\n",
    "2. Iterate Over a Set\n",
    "Write a Python program to iterate over sets.\n",
    "\n",
    "3. Add Member(s) to a Set\n",
    "Write a Python program to add member(s) to a set.\n",
    "\n",
    "4. Remove Item(s) from a Set\n",
    "Write a Python program to remove item(s) from a given set.\n",
    "\n",
    "5. Remove an Item if Present in the Set\n",
    "Write a Python program to remove an item from a set if it is present in the set."
   ]
  },
  {
   "cell_type": "code",
   "execution_count": null,
   "metadata": {},
   "outputs": [
    {
     "name": "stdout",
     "output_type": "stream",
     "text": [
      "Ascending: [('d', 2), ('b', 5), ('a', 10), ('c', 15)]\n",
      "Descending: [('c', 15), ('a', 10), ('b', 5), ('d', 2)]\n"
     ]
    }
   ],
   "source": [
    "#1\n",
    "from operator import itemgetter\n",
    "my_dict = {'a': 10, 'b': 5, 'c': 15, 'd': 2}\n",
    "sorted_asc = sorted(my_dict.items(), key=itemgetter(1))\n",
    "print(\"Ascending:\", sorted_asc)\n",
    "sorted_desc = sorted(my_dict.items(), key=itemgetter(1), reverse=True)\n",
    "print(\"Descending:\", sorted_desc)\n"
   ]
  },
  {
   "cell_type": "code",
   "execution_count": 16,
   "metadata": {},
   "outputs": [
    {
     "data": {
      "text/plain": [
       "{0: 10, 1: 20, 2: 30}"
      ]
     },
     "execution_count": 16,
     "metadata": {},
     "output_type": "execute_result"
    }
   ],
   "source": [
    "#2\n",
    "diction={0:10, 1:20}\n",
    "diction[2]=30\n",
    "diction"
   ]
  },
  {
   "cell_type": "code",
   "execution_count": null,
   "metadata": {},
   "outputs": [
    {
     "data": {
      "text/plain": [
       "{1: 10, 2: 20, 3: 30, 4: 40, 5: 50, 6: 60}"
      ]
     },
     "execution_count": 22,
     "metadata": {},
     "output_type": "execute_result"
    }
   ],
   "source": [
    "#3\n",
    "dic1 = {1: 10, 2: 20}\n",
    "dic2 = {3: 30, 4: 40}\n",
    "dic3 = {5: 50, 6: 60}\n",
    "dic1.update(dic2)\n",
    "dic1.update(dic3)\n",
    "dic1\n",
    "#merged_dic=dic1|dic2|dic3\n",
    "#merged_dic"
   ]
  },
  {
   "cell_type": "code",
   "execution_count": null,
   "metadata": {},
   "outputs": [
    {
     "name": "stdout",
     "output_type": "stream",
     "text": [
      "{1: 1, 2: 4, 3: 9, 4: 16}\n"
     ]
    }
   ],
   "source": [
    "#4\n",
    "numbers=int(input('till which number you want to see squares: '))\n",
    "mydic={}\n",
    "for i in range (1, numbers+1):\n",
    "    mydic[i]=i**2\n",
    "print(mydic)"
   ]
  },
  {
   "cell_type": "code",
   "execution_count": 38,
   "metadata": {},
   "outputs": [
    {
     "name": "stdout",
     "output_type": "stream",
     "text": [
      "{1: 1, 2: 4, 3: 9, 4: 16, 5: 25, 6: 36, 7: 49, 8: 64, 9: 81, 10: 100, 11: 121, 12: 144, 13: 169, 14: 196, 15: 225}\n"
     ]
    }
   ],
   "source": [
    "#5\n",
    "dic={}\n",
    "for i in range(1,16):\n",
    "    dic[i]=i**2\n",
    "print(dic)\n"
   ]
  },
  {
   "cell_type": "code",
   "execution_count": 39,
   "metadata": {},
   "outputs": [
    {
     "data": {
      "text/plain": [
       "set"
      ]
     },
     "execution_count": 39,
     "metadata": {},
     "output_type": "execute_result"
    }
   ],
   "source": [
    "#6\n",
    "my_set=set()\n",
    "type(my_set)"
   ]
  },
  {
   "cell_type": "code",
   "execution_count": 46,
   "metadata": {},
   "outputs": [
    {
     "name": "stdout",
     "output_type": "stream",
     "text": [
      "1\n",
      "4\n",
      "9\n",
      "16\n",
      "49\n",
      "64\n",
      "81\n"
     ]
    }
   ],
   "source": [
    "#7\n",
    "my_set={1,2,3,4,7,8,9}\n",
    "for i in my_set:\n",
    "    print(i**2)\n"
   ]
  },
  {
   "cell_type": "code",
   "execution_count": 50,
   "metadata": {},
   "outputs": [
    {
     "data": {
      "text/plain": [
       "{1, 12, '12', 2, 3, 4, 7, 8, 88, 9, 96}"
      ]
     },
     "execution_count": 50,
     "metadata": {},
     "output_type": "execute_result"
    }
   ],
   "source": [
    "#8\n",
    "my_set.add(96)\n",
    "my_set"
   ]
  },
  {
   "cell_type": "code",
   "execution_count": null,
   "metadata": {},
   "outputs": [
    {
     "data": {
      "text/plain": [
       "{12, '12', 2, 3, 4, 7, 8, 88, 9, 96}"
      ]
     },
     "execution_count": 52,
     "metadata": {},
     "output_type": "execute_result"
    }
   ],
   "source": [
    "#9\n",
    "my_set.pop()\n",
    "my_set"
   ]
  },
  {
   "cell_type": "code",
   "execution_count": null,
   "metadata": {},
   "outputs": [],
   "source": [
    "#9\n",
    "my_set.remove(2)\n",
    "my_set"
   ]
  },
  {
   "cell_type": "code",
   "execution_count": 3,
   "metadata": {},
   "outputs": [
    {
     "name": "stdout",
     "output_type": "stream",
     "text": [
      "there is no such object\n"
     ]
    }
   ],
   "source": [
    "#10\n",
    "my_set={1,2,3,4,7,8,9}\n",
    "a=input()\n",
    "if a in my_set:\n",
    "    my_set.remove(a)\n",
    "    print(my_set)\n",
    "else:\n",
    "    print('there is no such object')"
   ]
  },
  {
   "cell_type": "code",
   "execution_count": null,
   "metadata": {},
   "outputs": [
    {
     "name": "stdout",
     "output_type": "stream",
     "text": [
      "None\n"
     ]
    }
   ],
   "source": []
  }
 ],
 "metadata": {
  "kernelspec": {
   "display_name": "Python 3",
   "language": "python",
   "name": "python3"
  },
  "language_info": {
   "codemirror_mode": {
    "name": "ipython",
    "version": 3
   },
   "file_extension": ".py",
   "mimetype": "text/x-python",
   "name": "python",
   "nbconvert_exporter": "python",
   "pygments_lexer": "ipython3",
   "version": "3.13.2"
  }
 },
 "nbformat": 4,
 "nbformat_minor": 2
}
